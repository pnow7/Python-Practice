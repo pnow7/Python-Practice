{
 "cells": [
  {
   "cell_type": "code",
   "execution_count": 1,
   "id": "86123e87-9ae4-4a3d-8008-8ce5e42afd95",
   "metadata": {},
   "outputs": [
    {
     "data": {
      "text/plain": [
       "1"
      ]
     },
     "execution_count": 1,
     "metadata": {},
     "output_type": "execute_result"
    }
   ],
   "source": [
    "int(4.3 - 2.5)"
   ]
  },
  {
   "cell_type": "code",
   "execution_count": 3,
   "id": "d6bf055e-4deb-41d7-a1ba-5ad844748abf",
   "metadata": {},
   "outputs": [
    {
     "data": {
      "text/plain": [
       "1.7999999999999998"
      ]
     },
     "execution_count": 3,
     "metadata": {},
     "output_type": "execute_result"
    }
   ],
   "source": [
    "float(4.3 - 2.5)"
   ]
  },
  {
   "cell_type": "code",
   "execution_count": 4,
   "id": "6db7ce71-6209-4a15-8e1a-20ca495b23be",
   "metadata": {},
   "outputs": [
    {
     "data": {
      "text/plain": [
       "'1.7999999999999998'"
      ]
     },
     "execution_count": 4,
     "metadata": {},
     "output_type": "execute_result"
    }
   ],
   "source": [
    "str(4.3 - 2.5)"
   ]
  },
  {
   "cell_type": "code",
   "execution_count": 5,
   "id": "a0cbb945-7d40-4275-9caa-d7acee835eae",
   "metadata": {},
   "outputs": [
    {
     "data": {
      "text/plain": [
       "str"
      ]
     },
     "execution_count": 5,
     "metadata": {},
     "output_type": "execute_result"
    }
   ],
   "source": [
    "a = \"hello\"\n",
    "type(a)"
   ]
  },
  {
   "cell_type": "code",
   "execution_count": 13,
   "id": "bc570cf5-e95e-4072-ae13-03fcd575c404",
   "metadata": {},
   "outputs": [
    {
     "name": "stdout",
     "output_type": "stream",
     "text": [
      "2 1\n",
      "O\n"
     ]
    }
   ],
   "source": [
    "print(round(4.3 - 2.5), 1)\n",
    "if round((4.3 - 2.5), 1) == 1.8:\n",
    "    print(\"O\")\n",
    "else:\n",
    "    print(\"X\")"
   ]
  },
  {
   "cell_type": "code",
   "execution_count": 16,
   "id": "6ed00cdf-7d67-4e88-9608-d291ae3fff34",
   "metadata": {},
   "outputs": [
    {
     "name": "stdout",
     "output_type": "stream",
     "text": [
      "10 15\n"
     ]
    }
   ],
   "source": [
    "a, b = 10, 15\n",
    "print(a, b)"
   ]
  },
  {
   "cell_type": "code",
   "execution_count": 22,
   "id": "ca29f723-4442-4be1-8ee3-baa0a746ad5c",
   "metadata": {},
   "outputs": [
    {
     "name": "stdin",
     "output_type": "stream",
     "text": [
      "첫번재 입력 숫자:  10\n",
      "두번재 입력 숫자:  20\n"
     ]
    },
    {
     "name": "stdout",
     "output_type": "stream",
     "text": [
      "30\n"
     ]
    }
   ],
   "source": [
    "x = int(input(\"첫번재 입력 숫자: \"))\n",
    "y = int(input(\"두번재 입력 숫자: \"))\n",
    "print(x + y)"
   ]
  },
  {
   "cell_type": "code",
   "execution_count": 21,
   "id": "7e31abcc-25c2-461f-9e87-102a8969ed45",
   "metadata": {},
   "outputs": [
    {
     "name": "stdin",
     "output_type": "stream",
     "text": [
      "숫자 두 개 입력 10 11\n"
     ]
    },
    {
     "name": "stdout",
     "output_type": "stream",
     "text": [
      "10 11\n"
     ]
    }
   ],
   "source": [
    "a, b = map(int, input(\"숫자 두 개 입력\").split())\n",
    "print(a, b)"
   ]
  },
  {
   "cell_type": "code",
   "execution_count": 25,
   "id": "a85761d1-9cbb-46cb-9734-6a218150709a",
   "metadata": {},
   "outputs": [
    {
     "name": "stdout",
     "output_type": "stream",
     "text": [
      "10 - 12\n"
     ]
    }
   ],
   "source": [
    "a, b = 10, 12\n",
    "print(a, b, sep = \" - \")"
   ]
  },
  {
   "cell_type": "code",
   "execution_count": 34,
   "id": "1251b8fe-169d-455a-a19c-3ef61f063e01",
   "metadata": {},
   "outputs": [
    {
     "data": {
      "text/plain": [
       "True"
      ]
     },
     "execution_count": 34,
     "metadata": {},
     "output_type": "execute_result"
    }
   ],
   "source": [
    "1 == 1"
   ]
  },
  {
   "cell_type": "code",
   "execution_count": 35,
   "id": "42b4034c-c851-4b3e-8700-0d9d8a84e7a8",
   "metadata": {},
   "outputs": [
    {
     "data": {
      "text/plain": [
       "False"
      ]
     },
     "execution_count": 35,
     "metadata": {},
     "output_type": "execute_result"
    }
   ],
   "source": [
    "bool('')"
   ]
  },
  {
   "cell_type": "code",
   "execution_count": 38,
   "id": "4ff22554-3541-4867-9d35-e63a635d9157",
   "metadata": {},
   "outputs": [
    {
     "data": {
      "text/plain": [
       "(True, False)"
      ]
     },
     "execution_count": 38,
     "metadata": {},
     "output_type": "execute_result"
    }
   ],
   "source": [
    "bool('False'), bool(False)"
   ]
  },
  {
   "cell_type": "code",
   "execution_count": 42,
   "id": "aeb38071-b2c5-469e-b6fe-f9999f4017a1",
   "metadata": {},
   "outputs": [
    {
     "name": "stdout",
     "output_type": "stream",
     "text": [
      "ABCDFd\n",
      "feijfadlkjf10\n",
      "91919\n"
     ]
    }
   ],
   "source": [
    "sentence = '''ABCDFd\n",
    "feijfadlkjf10\n",
    "91919'''\n",
    "\n",
    "print(sentence)"
   ]
  },
  {
   "cell_type": "code",
   "execution_count": 45,
   "id": "32dbb59a-1254-4317-aee2-bb7750ababad",
   "metadata": {},
   "outputs": [
    {
     "data": {
      "text/plain": [
       "([], [])"
      ]
     },
     "execution_count": 45,
     "metadata": {},
     "output_type": "execute_result"
    }
   ],
   "source": [
    "a = []\n",
    "b = list()\n",
    "a, b"
   ]
  },
  {
   "cell_type": "code",
   "execution_count": 46,
   "id": "e1cdbaed-9825-4e66-b563-6b361c0fc1d8",
   "metadata": {},
   "outputs": [
    {
     "data": {
      "text/plain": [
       "(list, list)"
      ]
     },
     "execution_count": 46,
     "metadata": {},
     "output_type": "execute_result"
    }
   ],
   "source": [
    "type(a), type(b)"
   ]
  },
  {
   "cell_type": "code",
   "execution_count": 48,
   "id": "d95423c4-c977-459a-b9b9-8050703c6020",
   "metadata": {},
   "outputs": [
    {
     "data": {
      "text/plain": [
       "[0, 1, 2, 3, 4, 5, 6, 7, 8, 9]"
      ]
     },
     "execution_count": 48,
     "metadata": {},
     "output_type": "execute_result"
    }
   ],
   "source": [
    "a = list(range(10))\n",
    "a"
   ]
  },
  {
   "cell_type": "code",
   "execution_count": 51,
   "id": "1d43bea8-0ed6-43db-812e-627b9fb55eae",
   "metadata": {},
   "outputs": [
    {
     "data": {
      "text/plain": [
       "[-4, -2, 0, 2, 4, 6, 8, 10]"
      ]
     },
     "execution_count": 51,
     "metadata": {},
     "output_type": "execute_result"
    }
   ],
   "source": [
    "c = list(range(-4, 11, 2))\n",
    "c"
   ]
  },
  {
   "cell_type": "code",
   "execution_count": 62,
   "id": "fc6b0ef0-1972-46a9-93cd-2dcbd965a036",
   "metadata": {},
   "outputs": [
    {
     "data": {
      "text/plain": [
       "[10, 9, 8, 7, 6, 5, 4, 3, 2, 1, 0, '응 아니야', [1, 2], '맨끝', '이걸삽입', 1]"
      ]
     },
     "execution_count": 62,
     "metadata": {},
     "output_type": "execute_result"
    }
   ],
   "source": [
    "c = list(range(10, -1, -1))\n",
    "c\n",
    "\n",
    "c.append('응 아니야')\n",
    "c\n",
    "\n",
    "c.append([1,2])\n",
    "c\n",
    "\n",
    "# 0번재 리스트에 삽입\n",
    "c.insert(0, '0번째에 이걸 삽입')\n",
    "c\n",
    "\n",
    "# 맨끝에 리스트 추가\n",
    "c.extend(['맨끝', '이걸삽입', 1])\n",
    "c\n",
    "\n",
    "# 0번재 인덱스 삭제\n",
    "c.remove(c[0])\n",
    "c"
   ]
  },
  {
   "cell_type": "code",
   "execution_count": 69,
   "id": "1eb816d8-c12e-4ddc-b8f1-b58c0739cb0b",
   "metadata": {},
   "outputs": [
    {
     "name": "stdout",
     "output_type": "stream",
     "text": [
      "[0, 3, 6, 9]\n",
      "(0, 3, 6, 9)\n",
      "True\n"
     ]
    }
   ],
   "source": [
    "# 리스트\n",
    "a = list(range(0, 10, 3))\n",
    "print(a)\n",
    "\n",
    "# 튜플\n",
    "b = tuple(a)\n",
    "print(b)\n",
    "\n",
    "c = 3\n",
    "c in b\n",
    "print(c in b)"
   ]
  },
  {
   "cell_type": "code",
   "execution_count": 6,
   "id": "4dd1708a-9649-451c-a9e3-512810a0d17d",
   "metadata": {},
   "outputs": [
    {
     "name": "stdout",
     "output_type": "stream",
     "text": [
      "[11, 13, 15, 17]\n"
     ]
    }
   ],
   "source": [
    "a = [1, 2, 3, 4]\n",
    "b = [10, 11, 12, 13]\n",
    "\n",
    "for i in range(0, len(a)):\n",
    "    b[i] += a[i]\n",
    "print(b)"
   ]
  },
  {
   "cell_type": "code",
   "execution_count": 11,
   "id": "6dfc54ae-5f96-4630-8287-00d37c9726a0",
   "metadata": {},
   "outputs": [
    {
     "name": "stdout",
     "output_type": "stream",
     "text": [
      "[1, 2, 3, 1, 2, 3, 1, 2, 3, 1, 2, 3, 1, 2, 3, 1, 2, 3]\n",
      "(1, 2, 3, 1, 2, 3, 1, 2, 3)\n",
      "씨씨씨 - 디디디디\n"
     ]
    }
   ],
   "source": [
    "a = [1, 2, 3] * 3\n",
    "b = (1, 2, 3) * 3\n",
    "c = '씨' * 3\n",
    "d = '디디' * 2\n",
    "\n",
    "print(a * 2)\n",
    "print(b)\n",
    "print(c, d, sep=' - ')"
   ]
  },
  {
   "cell_type": "code",
   "execution_count": 12,
   "id": "046ccb18-5b5f-400c-8960-b00dc264c616",
   "metadata": {},
   "outputs": [
    {
     "name": "stdout",
     "output_type": "stream",
     "text": [
      "4\n"
     ]
    }
   ],
   "source": [
    "a = [1, 2, 3, [4,5]]\n",
    "print(len(a))"
   ]
  },
  {
   "cell_type": "code",
   "execution_count": 18,
   "id": "51f7f96f-2dff-4cf7-9787-c7fd1307f0f1",
   "metadata": {},
   "outputs": [
    {
     "name": "stdout",
     "output_type": "stream",
     "text": [
      "97\n",
      "65\n"
     ]
    }
   ],
   "source": [
    "a = ord('a')\n",
    "print(a)\n",
    "\n",
    "b = ord('A')\n",
    "print(b)"
   ]
  },
  {
   "cell_type": "code",
   "execution_count": 21,
   "id": "0c86e2fe-4e2b-44c6-8a91-920cd147003f",
   "metadata": {},
   "outputs": [
    {
     "data": {
      "text/plain": [
       "('0xff', '0xff')"
      ]
     },
     "execution_count": 21,
     "metadata": {},
     "output_type": "execute_result"
    }
   ],
   "source": [
    "0b1111 ## 2진수\n",
    "0xec # 16진수\n",
    "0o10 # 8진수\n",
    "\n",
    "hex(255), hex(0b11111111) ## 16진수 중 가장 큰 수\n"
   ]
  },
  {
   "cell_type": "code",
   "execution_count": 29,
   "id": "60a9856e-a63f-422b-aa70-4e9864095b4d",
   "metadata": {},
   "outputs": [
    {
     "name": "stdout",
     "output_type": "stream",
     "text": [
      "[4, 3, 2, 1]\n",
      "[4, 3, 2, 1]\n"
     ]
    }
   ],
   "source": [
    "a = [1, 2, 3, 4]\n",
    "print(a[::-1])\n",
    "print(list(reversed(a)))"
   ]
  },
  {
   "cell_type": "code",
   "execution_count": 36,
   "id": "9abf8c9f-87c1-4198-a51c-92e650e4584b",
   "metadata": {},
   "outputs": [
    {
     "name": "stdout",
     "output_type": "stream",
     "text": [
      "5\n"
     ]
    }
   ],
   "source": [
    "b = (0, 1)\n",
    "b[0] + b[1]\n",
    "\n",
    "r = range(1, 10, 2)\n",
    "print(r[2])"
   ]
  },
  {
   "cell_type": "code",
   "execution_count": 37,
   "id": "f88e4ecf-8b4b-4ef2-abd8-a721de70fc7c",
   "metadata": {},
   "outputs": [
    {
     "name": "stdout",
     "output_type": "stream",
     "text": [
      "[2, 3]\n"
     ]
    }
   ],
   "source": [
    "a = [1, 2, 3]\n",
    "del a[0]\n",
    "print(a)"
   ]
  },
  {
   "cell_type": "code",
   "execution_count": 55,
   "id": "78da20f5-4f69-462b-84df-908b4103b8f5",
   "metadata": {},
   "outputs": [
    {
     "name": "stdout",
     "output_type": "stream",
     "text": [
      "[20, 50]\n",
      "[0, 10, 20, '브ㅞ브ㅔ', 50]\n",
      "0 10 20 브ㅞ브ㅔ 50\n"
     ]
    }
   ],
   "source": [
    "a = [0, 10, 20, 30, 40, 50]\n",
    "a[3:5] = ['브ㅞ브ㅔ']\n",
    "print(a[2:6:2])\n",
    "print(a[:])\n",
    "\n",
    "result = []\n",
    "\n",
    "for i in range(0, len(a)):\n",
    "    result.append(a[i])\n",
    "\n",
    "print(*result)"
   ]
  },
  {
   "cell_type": "code",
   "execution_count": 54,
   "id": "5a526d3f-2632-4de7-baa0-4ebd0acf9921",
   "metadata": {},
   "outputs": [
    {
     "name": "stdout",
     "output_type": "stream",
     "text": [
      "490\n"
     ]
    }
   ],
   "source": [
    "lux = {'health': 490, 'mana': 334, 'melee': 550}\n",
    "lux\n",
    "print(lux['health'])"
   ]
  },
  {
   "cell_type": "code",
   "execution_count": 62,
   "id": "5c6ab671-2038-4490-a6d5-add6835633eb",
   "metadata": {},
   "outputs": [
    {
     "data": {
      "text/plain": [
       "{'health': 400, 'mana': 334, 'melee': 550, 'mana_regen': 228}"
      ]
     },
     "execution_count": 62,
     "metadata": {},
     "output_type": "execute_result"
    }
   ],
   "source": [
    "lux1 = dict(health = 400, mana = 334, melee = 550)\n",
    "lux1['mana_regen'] = 228\n",
    "lux1"
   ]
  }
 ],
 "metadata": {
  "kernelspec": {
   "display_name": "Python [conda env:base] *",
   "language": "python",
   "name": "conda-base-py"
  },
  "language_info": {
   "codemirror_mode": {
    "name": "ipython",
    "version": 3
   },
   "file_extension": ".py",
   "mimetype": "text/x-python",
   "name": "python",
   "nbconvert_exporter": "python",
   "pygments_lexer": "ipython3",
   "version": "3.13.5"
  }
 },
 "nbformat": 4,
 "nbformat_minor": 5
}
