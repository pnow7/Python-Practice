{
 "cells": [
  {
   "cell_type": "code",
   "execution_count": 2,
   "id": "cbc80d49-6a59-4a77-854f-dff0feae4b04",
   "metadata": {},
   "outputs": [
    {
     "data": {
      "text/plain": [
       "[5, 10, 20, 30]"
      ]
     },
     "execution_count": 2,
     "metadata": {},
     "output_type": "execute_result"
    }
   ],
   "source": [
    "a = [10, 5, 20, 30]\n",
    "a.sort()\n",
    "a"
   ]
  },
  {
   "cell_type": "code",
   "execution_count": 3,
   "id": "c1032295-5a64-438e-93ab-16101947e929",
   "metadata": {},
   "outputs": [
    {
     "name": "stdout",
     "output_type": "stream",
     "text": [
      "[1, 1, 4, 5, 23]\n"
     ]
    }
   ],
   "source": [
    "b = [1, 5, 1, 23, 4]\n",
    "print(sorted(b))"
   ]
  },
  {
   "cell_type": "code",
   "execution_count": 4,
   "id": "ea8318b2-7a0b-4e78-9019-66a174b7cec7",
   "metadata": {},
   "outputs": [
    {
     "data": {
      "text/plain": [
       "[10, 20, 30, 500, 600]"
      ]
     },
     "execution_count": 4,
     "metadata": {},
     "output_type": "execute_result"
    }
   ],
   "source": [
    "a = [10, 20, 30]\n",
    "a[len(a):] = [500, 600]\n",
    "a"
   ]
  },
  {
   "cell_type": "code",
   "execution_count": 6,
   "id": "25c75aee-b293-4a57-a32b-c4604f50c098",
   "metadata": {},
   "outputs": [
    {
     "data": {
      "text/plain": [
       "[99, 0, 0, 0, 0]"
      ]
     },
     "execution_count": 6,
     "metadata": {},
     "output_type": "execute_result"
    }
   ],
   "source": [
    "a = [0, 0, 0, 0, 0]\n",
    "b = a\n",
    "b[0] = 99\n",
    "a"
   ]
  },
  {
   "cell_type": "code",
   "execution_count": 9,
   "id": "811fb478-5815-4ff0-b2b4-c8eb52c872d6",
   "metadata": {},
   "outputs": [
    {
     "name": "stdout",
     "output_type": "stream",
     "text": [
      "False\n",
      "True\n",
      "[1, 1, 1, 1, 1] [1, 1, 99, 1, 1]\n"
     ]
    }
   ],
   "source": [
    "a = [1, 1, 1, 1, 1]\n",
    "b = a.copy()\n",
    "\n",
    "print(a is b)\n",
    "print(a == b)\n",
    "\n",
    "b[2] = 99\n",
    "print(a, b)"
   ]
  },
  {
   "cell_type": "code",
   "execution_count": 18,
   "id": "4cf4b529-015c-42cd-9350-76ef4b47eead",
   "metadata": {},
   "outputs": [
    {
     "name": "stdout",
     "output_type": "stream",
     "text": [
      "0 - 38\n",
      "1 - 21\n",
      "2 - 53\n",
      "3 - 62\n",
      "4 - 19\n",
      "0 * 213\n",
      "1 * 13\n",
      "2 * 15\n",
      "3 * 985\n",
      "4 * 84\n"
     ]
    }
   ],
   "source": [
    "# enumrate: index, value\n",
    "\n",
    "a = [38, 21, 53, 62, 19]\n",
    "for index, value in enumerate(a):\n",
    "    print(index, value, sep= ' - ')\n",
    "    \n",
    "b = [213, 13, 15, 985, 84]\n",
    "for i in range(0, len(b)):\n",
    "    print(b.index(b[i]),  b[i], sep = ' * ')"
   ]
  },
  {
   "cell_type": "code",
   "execution_count": 21,
   "id": "1f8ed6f8-6289-4422-b3eb-d54bc9e8a0b3",
   "metadata": {},
   "outputs": [
    {
     "name": "stdout",
     "output_type": "stream",
     "text": [
      "2\n"
     ]
    }
   ],
   "source": [
    "a = list(map(str, range(10)))\n",
    "a\n",
    "\n",
    "b = [10, 10, 20, 30, 40]\n",
    "print(b.count(10))"
   ]
  },
  {
   "cell_type": "code",
   "execution_count": 26,
   "id": "2660e817-6057-41b6-9450-0a4e2e8b0606",
   "metadata": {},
   "outputs": [
    {
     "name": "stdout",
     "output_type": "stream",
     "text": [
      "1,2,3,4\n",
      "5,6,7,8\n",
      "9,10,11,12\n"
     ]
    }
   ],
   "source": [
    "matrix = [\n",
    "    [1, 2, 3, 4],\n",
    "    [5, 6, 7, 8],\n",
    "    [9, 10, 11, 12]\n",
    "]\n",
    "\n",
    "for row in matrix:\n",
    "    for i in range(len(row)):\n",
    "        print(row[i], end = '')\n",
    "\n",
    "        if i <len(row) -1:\n",
    "            print(',', end = '')\n",
    "    print()"
   ]
  },
  {
   "cell_type": "code",
   "execution_count": 27,
   "id": "244fcccb-290c-4442-af78-3934132c7358",
   "metadata": {},
   "outputs": [
    {
     "name": "stdout",
     "output_type": "stream",
     "text": [
      "[[0, 0, 0], [0, 0, 0], [0, 0, 0], [0, 0, 0], [0, 0, 0]]\n"
     ]
    }
   ],
   "source": [
    "rows = 5\n",
    "cols = 3\n",
    "my_array = [[0] * cols for _ in range(rows)]\n",
    "\n",
    "print(my_array)"
   ]
  },
  {
   "cell_type": "code",
   "execution_count": 28,
   "id": "95eccf57-5015-4423-b302-1cd1a2b312f9",
   "metadata": {},
   "outputs": [
    {
     "name": "stdout",
     "output_type": "stream",
     "text": [
      "1,2,3,4\n",
      "5,6,7,8\n",
      "9,10,11,12\n"
     ]
    }
   ],
   "source": [
    "matrix = [[1, 2, 3, 4], [5, 6, 7, 8], [9, 10, 11, 12]]\n",
    "\n",
    "for row in matrix:\n",
    "    print(','.join(map(str, row)))"
   ]
  },
  {
   "cell_type": "code",
   "execution_count": 30,
   "id": "6cd9b6e1-a649-48a9-96db-285f0e102231",
   "metadata": {},
   "outputs": [
    {
     "name": "stdout",
     "output_type": "stream",
     "text": [
      "True\n",
      "True\n",
      "False\n",
      "True\n"
     ]
    }
   ],
   "source": [
    "a = [[10, 20], [30, 40]]\n",
    "b = a\n",
    "\n",
    "print(a is b)\n",
    "print(a == b)\n",
    "\n",
    "c = b.copy()\n",
    "print(a is c)\n",
    "print(a == c)"
   ]
  },
  {
   "cell_type": "code",
   "execution_count": 31,
   "id": "65eb03f1-6111-45bb-8724-ec33f76de7f8",
   "metadata": {},
   "outputs": [
    {
     "data": {
      "text/plain": [
       "(False, 1733872510208, 1733872514368)"
      ]
     },
     "execution_count": 31,
     "metadata": {},
     "output_type": "execute_result"
    }
   ],
   "source": [
    "a = [[10, 20], [30, 40]]\n",
    "import copy\n",
    "b = copy.deepcopy(a)\n",
    "a is b, id(a), id(b)"
   ]
  },
  {
   "cell_type": "code",
   "execution_count": 33,
   "id": "1a2cccfb-f0f4-489e-ac8b-ab15779f8537",
   "metadata": {},
   "outputs": [
    {
     "name": "stdout",
     "output_type": "stream",
     "text": [
      "[[10, 20], [30, 40]]\n",
      "[[999, 20], [30, 40]]\n"
     ]
    }
   ],
   "source": [
    "b[0][0] = 999\n",
    "print(a)\n",
    "print(b)"
   ]
  },
  {
   "cell_type": "code",
   "execution_count": 36,
   "id": "c3fcc1d0-e8e8-43eb-98e3-7eeaaefea2d6",
   "metadata": {},
   "outputs": [
    {
     "data": {
      "text/plain": [
       "'python, World'"
      ]
     },
     "execution_count": 36,
     "metadata": {},
     "output_type": "execute_result"
    }
   ],
   "source": [
    "s = 'Hello, World'\n",
    "b = s.replace('Hello', 'python')\n",
    "b"
   ]
  },
  {
   "cell_type": "code",
   "execution_count": 37,
   "id": "4b269e43-12b3-402e-bc42-8480ff63526e",
   "metadata": {},
   "outputs": [
    {
     "data": {
      "text/plain": [
       "'1ppl2'"
      ]
     },
     "execution_count": 37,
     "metadata": {},
     "output_type": "execute_result"
    }
   ],
   "source": [
    "table = str.maketrans('aeiou', '12345')\n",
    "'apple'.translate(table)"
   ]
  },
  {
   "cell_type": "code",
   "execution_count": 38,
   "id": "553c0e9a-276a-42ff-8b77-c91158c9b55d",
   "metadata": {},
   "outputs": [
    {
     "data": {
      "text/plain": [
       "'python'"
      ]
     },
     "execution_count": 38,
     "metadata": {},
     "output_type": "execute_result"
    }
   ],
   "source": [
    "'PYTHON'.lower()"
   ]
  },
  {
   "cell_type": "code",
   "execution_count": 40,
   "id": "94873c40-649d-45b8-a9a2-eb2c8aa35333",
   "metadata": {},
   "outputs": [
    {
     "data": {
      "text/plain": [
       "'5.50'"
      ]
     },
     "execution_count": 40,
     "metadata": {},
     "output_type": "execute_result"
    }
   ],
   "source": [
    "'%.f' % 2.3\n",
    "'%.2f' % 5.5"
   ]
  },
  {
   "cell_type": "code",
   "execution_count": 41,
   "id": "74b1d06c-dd05-4ad5-b13d-bc70125cf717",
   "metadata": {},
   "outputs": [
    {
     "data": {
      "text/plain": [
       "'Hello, Python 3.6 Script'"
      ]
     },
     "execution_count": 41,
     "metadata": {},
     "output_type": "execute_result"
    }
   ],
   "source": [
    "'Hello, {0} {2} {1}'.format('Python', 'Script', 3.6)"
   ]
  },
  {
   "cell_type": "code",
   "execution_count": 43,
   "id": "3d533402-7f61-454c-842f-71b2e18c26df",
   "metadata": {},
   "outputs": [
    {
     "name": "stdout",
     "output_type": "stream",
     "text": [
      "숫자 임?\n"
     ]
    }
   ],
   "source": [
    "a = \"숫자\"\n",
    "print(f\"{a} 임?\")"
   ]
  },
  {
   "cell_type": "code",
   "execution_count": 47,
   "id": "94098656-934e-4d6d-8f33-383675e11169",
   "metadata": {},
   "outputs": [
    {
     "name": "stdout",
     "output_type": "stream",
     "text": [
      "python.exe\n",
      "python.exe\n"
     ]
    }
   ],
   "source": [
    "path = 'C:\\\\Users\\\\dojang\\\\AppData\\\\Local\\\\Programs\\\\Python\\\\Python36-32\\\\python.exe'\n",
    "\n",
    "x = path.split('\\\\')\n",
    "print(x[-1])\n",
    "\n",
    "x.reverse()\n",
    "print(x[0])"
   ]
  },
  {
   "cell_type": "code",
   "execution_count": 49,
   "id": "2f158265-5bdc-4323-8765-8e40d85d5a37",
   "metadata": {},
   "outputs": [
    {
     "data": {
      "text/plain": [
       "'C:\\\\Users\\\\dojang\\\\AppData\\\\Local\\\\Programs\\\\Python\\\\Python36-32\\\\python.exe'"
      ]
     },
     "execution_count": 49,
     "metadata": {},
     "output_type": "execute_result"
    }
   ],
   "source": [
    "r'C:\\Users\\dojang\\AppData\\Local\\Programs\\Python\\Python36-32\\python.exe'"
   ]
  },
  {
   "cell_type": "code",
   "execution_count": 61,
   "id": "1b139866-e5b7-4d55-b80e-03d5e2119e00",
   "metadata": {},
   "outputs": [
    {
     "name": "stdout",
     "output_type": "stream",
     "text": [
      "{'health': 490, 'mana': 334, 'melee': 550, 'armor': 18.72}\n"
     ]
    },
    {
     "data": {
      "text/plain": [
       "{'a': 10, 'b': 20, 'c': 30, 'd': 40, 'e': None}"
      ]
     },
     "execution_count": 61,
     "metadata": {},
     "output_type": "execute_result"
    }
   ],
   "source": [
    "# dict 만들기\n",
    "lux1 = dict(health=490, mana=334, melee=550, armor=18.72)\n",
    "print(lux1)\n",
    "\n",
    "x = {'a': 10, 'b': 20, 'c': 30, 'd': 40}\n",
    "x.setdefault('e')\n",
    "x"
   ]
  },
  {
   "cell_type": "code",
   "execution_count": 51,
   "id": "32135024-3bdf-4621-802e-082bfca7a836",
   "metadata": {},
   "outputs": [
    {
     "data": {
      "text/plain": [
       "100"
      ]
     },
     "execution_count": 51,
     "metadata": {},
     "output_type": "execute_result"
    }
   ],
   "source": [
    "x.setdefault('f', 100)"
   ]
  },
  {
   "cell_type": "code",
   "execution_count": 52,
   "id": "0f2b8f49-fce9-46c5-8a8f-8bdc6b71dd59",
   "metadata": {},
   "outputs": [
    {
     "data": {
      "text/plain": [
       "{'a': 10, 'b': 20, 'c': 30, 'd': 40, 'e': None, 'f': 100}"
      ]
     },
     "execution_count": 52,
     "metadata": {},
     "output_type": "execute_result"
    }
   ],
   "source": [
    "x"
   ]
  },
  {
   "cell_type": "code",
   "execution_count": 53,
   "id": "14c20dc3-b9e2-417b-b246-1c35a03a5f9f",
   "metadata": {},
   "outputs": [
    {
     "data": {
      "text/plain": [
       "{'a': 90, 'b': 20, 'c': 30, 'd': 40}"
      ]
     },
     "execution_count": 53,
     "metadata": {},
     "output_type": "execute_result"
    }
   ],
   "source": [
    "x = {'a': 10, 'b': 20, 'c': 30, 'd': 40}\n",
    "x.update(a = 90)\n",
    "x"
   ]
  },
  {
   "cell_type": "code",
   "execution_count": 54,
   "id": "183ca415-b09a-4180-b4e5-24faa95b06f9",
   "metadata": {},
   "outputs": [
    {
     "data": {
      "text/plain": [
       "{'b': 20, 'c': 30, 'd': 40}"
      ]
     },
     "execution_count": 54,
     "metadata": {},
     "output_type": "execute_result"
    }
   ],
   "source": [
    "x.pop('a')\n",
    "x"
   ]
  },
  {
   "cell_type": "code",
   "execution_count": 55,
   "id": "79f1ed5d-6b61-421f-8283-aef602985021",
   "metadata": {},
   "outputs": [
    {
     "data": {
      "text/plain": [
       "dict_items([('a', 10), ('b', 20), ('c', 30), ('d', 40)])"
      ]
     },
     "execution_count": 55,
     "metadata": {},
     "output_type": "execute_result"
    }
   ],
   "source": [
    "x = {'a': 10, 'b': 20, 'c': 30, 'd': 40}\n",
    "x.items()"
   ]
  },
  {
   "cell_type": "code",
   "execution_count": 56,
   "id": "23887bb5-f766-4a09-80d8-c6cd7632e3b4",
   "metadata": {},
   "outputs": [
    {
     "data": {
      "text/plain": [
       "dict_keys(['a', 'b', 'c', 'd'])"
      ]
     },
     "execution_count": 56,
     "metadata": {},
     "output_type": "execute_result"
    }
   ],
   "source": [
    "x.keys()"
   ]
  },
  {
   "cell_type": "code",
   "execution_count": 58,
   "id": "fd4485fc-7110-4494-b1bf-2c698e11ff05",
   "metadata": {},
   "outputs": [
    {
     "data": {
      "text/plain": [
       "dict_values([10, 20, 30, 40])"
      ]
     },
     "execution_count": 58,
     "metadata": {},
     "output_type": "execute_result"
    }
   ],
   "source": [
    "x.values()"
   ]
  },
  {
   "cell_type": "code",
   "execution_count": 60,
   "id": "cbc5514e-ded5-4958-a1b7-8b91c0b8248f",
   "metadata": {},
   "outputs": [
    {
     "name": "stdout",
     "output_type": "stream",
     "text": [
      "a\n",
      "b\n",
      "c\n",
      "d\n",
      "a 10\n",
      "b 20\n",
      "c 30\n",
      "d 40\n"
     ]
    }
   ],
   "source": [
    "x = {'a': 10, 'b': 20, 'c': 30, 'd': 40}\n",
    "\n",
    "# key \n",
    "for i in x:\n",
    "    print(i)\n",
    "\n",
    "# key, 값 같이\n",
    "for key, value in x.items():\n",
    "    print(key, value)"
   ]
  },
  {
   "cell_type": "code",
   "execution_count": 66,
   "id": "26fa7bca-9a20-4364-839a-ba7ce61b500a",
   "metadata": {},
   "outputs": [
    {
     "name": "stdout",
     "output_type": "stream",
     "text": [
      "a 10\n",
      "b 20\n",
      "c 30\n",
      "d 40\n",
      "{10: 'a', 20: 'b', 30: 'c', 40: 'd'}\n"
     ]
    }
   ],
   "source": [
    "x = {'a': 10, 'b': 20, 'c': 30, 'd': 40}\n",
    "d = {}\n",
    "\n",
    "for key, values in x.items():\n",
    "    print(key, values)\n",
    "\n",
    "# 키 값 뒤집기\n",
    "for keys, values in x.items():\n",
    "    d[values] = keys\n",
    "print(d)\n",
    "    "
   ]
  },
  {
   "cell_type": "code",
   "execution_count": 68,
   "id": "91bde79a-b768-4b39-b53b-696a06940c18",
   "metadata": {},
   "outputs": [
    {
     "data": {
      "text/plain": [
       "{'a': 10, 'b': 20, 'c': 30, 'd': 40}"
      ]
     },
     "execution_count": 68,
     "metadata": {},
     "output_type": "execute_result"
    }
   ],
   "source": [
    "x"
   ]
  },
  {
   "cell_type": "code",
   "execution_count": 70,
   "id": "95678884-d23d-4f17-bfea-0b3e70cebf82",
   "metadata": {},
   "outputs": [
    {
     "data": {
      "text/plain": [
       "{10: 'a', 30: 'c', 40: 'd'}"
      ]
     },
     "execution_count": 70,
     "metadata": {},
     "output_type": "execute_result"
    }
   ],
   "source": [
    "# 뒤집기\n",
    "{values : keys for keys, values in x.items()}\n",
    "{values : keys for keys, values in x.items() if values != 20}"
   ]
  },
  {
   "cell_type": "code",
   "execution_count": 74,
   "id": "2e9eee4f-8b9b-434c-abc3-a835e1940cff",
   "metadata": {},
   "outputs": [
    {
     "name": "stdout",
     "output_type": "stream",
     "text": [
      "4\n",
      "dict_keys(['Mercury', 'Venus', 'Earth', 'Mars'])\n",
      "dict_values([{'mean_radius': 2439.7, 'mass': 3.3022e+23, 'orbital_period': 87.969}, {'mean_radius': 6051.8, 'mass': 4.8676e+24, 'orbital_period': 224.70069}, {'mean_radius': 6371.0, 'mass': 5.97219e+24, 'orbital_period': 365.25641}, {'mean_radius': 3389.5, 'mass': 6.4185e+23, 'orbital_period': 686.96}])\n",
      "6051.8\n"
     ]
    }
   ],
   "source": [
    "terrestrial_planet = {\n",
    "    'Mercury': {\n",
    "        'mean_radius': 2439.7,\n",
    "        'mass': 3.3022E+23,\n",
    "        'orbital_period': 87.969\n",
    "    },\n",
    "    'Venus': {\n",
    "        'mean_radius': 6051.8,\n",
    "        'mass': 4.8676E+24,\n",
    "        'orbital_period': 224.70069,\n",
    "    },\n",
    "    'Earth': {\n",
    "        'mean_radius': 6371.0,\n",
    "        'mass': 5.97219E+24,\n",
    "        'orbital_period': 365.25641,\n",
    "    },\n",
    "    'Mars': {\n",
    "        'mean_radius': 3389.5,\n",
    "        'mass': 6.4185E+23,\n",
    "        'orbital_period': 686.9600,\n",
    "    }\n",
    "}\n",
    "\n",
    "# print(terrestrial_planet.items())\n",
    "print(len(terrestrial_planet))\n",
    "print(terrestrial_planet.keys())\n",
    "print(terrestrial_planet.values())\n",
    "print(terrestrial_planet['Venus']['mean_radius'])"
   ]
  },
  {
   "cell_type": "code",
   "execution_count": 75,
   "id": "06519afe-0d12-4c69-b2e9-8e755f377b9b",
   "metadata": {},
   "outputs": [
    {
     "data": {
      "text/plain": [
       "False"
      ]
     },
     "execution_count": 75,
     "metadata": {},
     "output_type": "execute_result"
    }
   ],
   "source": [
    "x = {'a': {'python': '2.7'}, 'b': {'python': '3.6'}}\n",
    "y = x.copy()\n",
    "x is y"
   ]
  },
  {
   "cell_type": "code",
   "execution_count": 76,
   "id": "be589c44-689e-4905-b621-0feccd2c778a",
   "metadata": {},
   "outputs": [
    {
     "data": {
      "text/plain": [
       "{'a': {'python': '3.11'}, 'b': {'python': '3.6'}}"
      ]
     },
     "execution_count": 76,
     "metadata": {},
     "output_type": "execute_result"
    }
   ],
   "source": [
    "x['a']['python'] = '3.11'\n",
    "x"
   ]
  },
  {
   "cell_type": "code",
   "execution_count": 77,
   "id": "6d91fd3e-8d88-42ff-a80d-cc4f16db5699",
   "metadata": {},
   "outputs": [
    {
     "data": {
      "text/plain": [
       "{'a': {'python': '3.11'}, 'b': {'python': '3.6'}}"
      ]
     },
     "execution_count": 77,
     "metadata": {},
     "output_type": "execute_result"
    }
   ],
   "source": [
    "y"
   ]
  },
  {
   "cell_type": "code",
   "execution_count": 78,
   "id": "39de61cf-4de5-497e-9316-76a77fd10862",
   "metadata": {},
   "outputs": [
    {
     "data": {
      "text/plain": [
       "True"
      ]
     },
     "execution_count": 78,
     "metadata": {},
     "output_type": "execute_result"
    }
   ],
   "source": [
    "x = {'a': {'python': '3.11'}, 'b': {'python': '3.6'}}\n",
    "import copy\n",
    "y = copy.deepcopy(x)\n",
    "x['a']['python'] is y['a']['python']"
   ]
  },
  {
   "cell_type": "code",
   "execution_count": 80,
   "id": "f53f1d41-4b96-490b-8e4e-6ff66efcfdce",
   "metadata": {},
   "outputs": [
    {
     "name": "stdout",
     "output_type": "stream",
     "text": [
      "원본: [[1, 2, 3], [4, 5, 6]]\n",
      "얕은 복사: [[1, 2, 3], [4, 5, 6]]\n",
      "깊은 복사: [[1, 2, 3], [4, 5, 6]]\n",
      "\n",
      "---수정후---\n",
      "원본: [[99, 2, 3], [4, 5, 6]]\n",
      "얕은 복사: [[99, 2, 3], [4, 5, 6]]\n",
      "깊은 복사: [[1, 2, 3], [4, 5, 6]]\n"
     ]
    }
   ],
   "source": [
    "import copy\n",
    "\n",
    "original = [[1, 2, 3], [4, 5, 6]]\n",
    "\n",
    "# 얕은 복사\n",
    "shallow = copy.copy(original)\n",
    "\n",
    "# 깊은 복사\n",
    "deep = copy.deepcopy(original)\n",
    "\n",
    "print(\"원본:\", original)\n",
    "print(\"얕은 복사:\", shallow)\n",
    "print(\"깊은 복사:\", deep)\n",
    "\n",
    "original[0][0] = 99\n",
    "\n",
    "print(\"\\n---수정후---\")\n",
    "print(\"원본:\", original)\n",
    "print(\"얕은 복사:\", shallow)\n",
    "print(\"깊은 복사:\", deep)"
   ]
  },
  {
   "cell_type": "code",
   "execution_count": 81,
   "id": "170c8375-2cab-4b7b-8605-f2b451066489",
   "metadata": {},
   "outputs": [],
   "source": [
    "fruits = {'strawberry', 'grape', 'orange', 'pineapple', 'cherry'}"
   ]
  },
  {
   "cell_type": "code",
   "execution_count": 83,
   "id": "0d68f821-85c8-410f-9ead-e311493bf723",
   "metadata": {},
   "outputs": [
    {
     "data": {
      "text/plain": [
       "{'cherry', 'orange'}"
      ]
     },
     "execution_count": 83,
     "metadata": {},
     "output_type": "execute_result"
    }
   ],
   "source": [
    "# 중복 허용 X\n",
    "\n",
    "fruits = {'orange', 'orange', 'cherry'}\n",
    "fruits"
   ]
  },
  {
   "cell_type": "code",
   "execution_count": 2,
   "id": "b556ca15-1770-4178-80ac-8a25710939e8",
   "metadata": {},
   "outputs": [
    {
     "data": {
      "text/plain": [
       "True"
      ]
     },
     "execution_count": 2,
     "metadata": {},
     "output_type": "execute_result"
    }
   ],
   "source": [
    "# []: 리스트, {a: b}: 딕셔너리\n",
    "# {a, b}: 세트 -> [] 대괄호 쓰지 못함\n",
    "\n",
    "fruits = {'strawberry', 'grape', 'orange', 'pineapple', 'cherry'}\n",
    "# fruits[0] -> 안됨\n",
    "\n",
    "'orange' in fruits"
   ]
  },
  {
   "cell_type": "code",
   "execution_count": 4,
   "id": "5ddf076d-3cc5-43a3-a3c5-2af4d663d8b8",
   "metadata": {},
   "outputs": [
    {
     "data": {
      "text/plain": [
       "{'a', 'e', 'l', 'p'}"
      ]
     },
     "execution_count": 4,
     "metadata": {},
     "output_type": "execute_result"
    }
   ],
   "source": [
    "a = set('apple')\n",
    "a"
   ]
  },
  {
   "cell_type": "code",
   "execution_count": 88,
   "id": "5893ef26-b8e8-45f1-b0c4-77681b465e7e",
   "metadata": {},
   "outputs": [
    {
     "data": {
      "text/plain": [
       "{0, 1, 2, 3, 4}"
      ]
     },
     "execution_count": 88,
     "metadata": {},
     "output_type": "execute_result"
    }
   ],
   "source": [
    "b = set(range(5))\n",
    "b"
   ]
  },
  {
   "cell_type": "code",
   "execution_count": 89,
   "id": "6d597bcb-af85-4823-a818-49c83cc882e5",
   "metadata": {},
   "outputs": [
    {
     "data": {
      "text/plain": [
       "set()"
      ]
     },
     "execution_count": 89,
     "metadata": {},
     "output_type": "execute_result"
    }
   ],
   "source": [
    "c = set()\n",
    "c"
   ]
  },
  {
   "cell_type": "code",
   "execution_count": 90,
   "id": "c143e6f3-0e93-4dcf-81b7-fc7f2a3fa14b",
   "metadata": {},
   "outputs": [
    {
     "name": "stdout",
     "output_type": "stream",
     "text": [
      "{1, 2, 3, 4, 5, 6}\n",
      "{1, 2, 3, 4, 5, 6}\n"
     ]
    }
   ],
   "source": [
    "a = {1, 2, 3, 4}\n",
    "b = {3, 4, 5, 6}\n",
    "print(a | b)\n",
    "print(set.union(a, b))"
   ]
  },
  {
   "cell_type": "code",
   "execution_count": 91,
   "id": "e7e7a0a1-5ad0-43f4-9374-48491d917c40",
   "metadata": {},
   "outputs": [
    {
     "name": "stdout",
     "output_type": "stream",
     "text": [
      "{3, 4}\n",
      "{3, 4}\n"
     ]
    }
   ],
   "source": [
    "print(a & b)\n",
    "print(set.intersection(a, b))"
   ]
  },
  {
   "cell_type": "code",
   "execution_count": 92,
   "id": "176c1a19-32c5-4223-bcea-d9c479bc8e43",
   "metadata": {},
   "outputs": [
    {
     "data": {
      "text/plain": [
       "{1, 2, 3, 4, 5, 6}"
      ]
     },
     "execution_count": 92,
     "metadata": {},
     "output_type": "execute_result"
    }
   ],
   "source": [
    "a |= {5}\n",
    "a.update({6})\n",
    "a"
   ]
  },
  {
   "cell_type": "code",
   "execution_count": 93,
   "id": "37632738-e173-424c-acda-fe549450381c",
   "metadata": {},
   "outputs": [
    {
     "name": "stdout",
     "output_type": "stream",
     "text": [
      "Hello, world!\n"
     ]
    }
   ],
   "source": [
    "def hello():\n",
    "    print('Hello, world!')\n",
    "hello()"
   ]
  },
  {
   "cell_type": "code",
   "execution_count": 94,
   "id": "561c040c-18a1-4141-af39-49bbcf3e2b72",
   "metadata": {},
   "outputs": [
    {
     "name": "stdout",
     "output_type": "stream",
     "text": [
      "30\n",
      "이 함수는 a와 b를 더한 뒤 결과를 반환하는 함수입니다.\n"
     ]
    }
   ],
   "source": [
    "def add(a, b):\n",
    "    \"\"\"이 함수는 a와 b를 더한 뒤 결과를 반환하는 함수입니다.\"\"\"\n",
    "    return a + b\n",
    " \n",
    "x = add(10, 20)       \n",
    "print(x)\n",
    " \n",
    "print(add.__doc__)"
   ]
  },
  {
   "cell_type": "code",
   "execution_count": 95,
   "id": "c7f54d54-8b4b-4a86-9972-eba5f9c89bde",
   "metadata": {},
   "outputs": [
    {
     "name": "stdout",
     "output_type": "stream",
     "text": [
      "Help on built-in function min in module builtins:\n",
      "\n",
      "min(...)\n",
      "    min(iterable, *[, default=obj, key=func]) -> value\n",
      "    min(arg1, arg2, *args, *[, key=func]) -> value\n",
      "\n",
      "    With a single iterable argument, return its smallest item. The\n",
      "    default keyword-only argument specifies an object to return if\n",
      "    the provided iterable is empty.\n",
      "    With two or more positional arguments, return the smallest argument.\n",
      "\n"
     ]
    }
   ],
   "source": [
    "help(min)"
   ]
  },
  {
   "cell_type": "code",
   "execution_count": 96,
   "id": "11c26302-6fe5-499b-8a6c-5a773892fdb9",
   "metadata": {},
   "outputs": [
    {
     "name": "stdout",
     "output_type": "stream",
     "text": [
      "Help on function add in module __main__:\n",
      "\n",
      "add(a, b)\n",
      "    이 함수는 a와 b를 더한 뒤 결과를 반환하는 함수입니다.\n",
      "\n"
     ]
    }
   ],
   "source": [
    "help(add)"
   ]
  },
  {
   "cell_type": "code",
   "execution_count": 99,
   "id": "a5860734-ae62-4803-add0-5633ed8b410c",
   "metadata": {},
   "outputs": [
    {
     "name": "stdout",
     "output_type": "stream",
     "text": [
      "1\n",
      "Help on function min in module __main__:\n",
      "\n",
      "min(a, b)\n",
      "    이 함수는 a와 b를 뺀 값의 절대값을 반환하는 함수입니다.\n",
      "\n",
      "None\n"
     ]
    }
   ],
   "source": [
    "def min(a, b):\n",
    "    \"\"\"이 함수는 a와 b를 뺀 값의 절대값을 반환하는 함수입니다.\"\"\"\n",
    "    return abs(a - b)\n",
    "\n",
    "print(min(5,6))\n",
    "print(help(min))"
   ]
  },
  {
   "cell_type": "code",
   "execution_count": 105,
   "id": "0e0f3614-c8c2-4004-a9cb-0584c419a757",
   "metadata": {},
   "outputs": [
    {
     "name": "stdout",
     "output_type": "stream",
     "text": [
      "(30, -10)\n",
      "30 -10\n"
     ]
    }
   ],
   "source": [
    "# 여러 값 반환하기\n",
    "\n",
    "def add_sub(a, b):\n",
    "    return a + b, a - b\n",
    "print(add_sub(10, 20))\n",
    "\n",
    "x, y = add_sub(10, 20)\n",
    "print(x, y)"
   ]
  },
  {
   "cell_type": "code",
   "execution_count": 106,
   "id": "c9b99196-de48-4659-9370-4325db2bb508",
   "metadata": {},
   "outputs": [
    {
     "name": "stdout",
     "output_type": "stream",
     "text": [
      "30\n",
      "200\n"
     ]
    }
   ],
   "source": [
    "def mul(a, b):\n",
    "    c = a * b\n",
    "    return c\n",
    " \n",
    "def add(a, b):\n",
    "    c = a + b\n",
    "    print(c)\n",
    "    d = mul(a, b)\n",
    "    print(d)\n",
    " \n",
    "x = 10\n",
    "y = 20\n",
    "add(x, y)"
   ]
  },
  {
   "cell_type": "code",
   "execution_count": 108,
   "id": "d14e0ee2-9c7f-4959-b72e-59b652593ec7",
   "metadata": {},
   "outputs": [
    {
     "name": "stdout",
     "output_type": "stream",
     "text": [
      "이름:  홍길동\n",
      "나이:  30\n",
      "주소:  서울시 용산구 이촌동\n",
      "\n",
      "\n",
      "이름:  홍길동\n",
      "나이:  30\n",
      "주소:  서울시 용산구 이촌동\n",
      "\n",
      "\n",
      "이름:  홍길동\n",
      "나이:  30\n",
      "주소:  서울시 용산구 이촌동\n",
      "\n",
      "\n"
     ]
    }
   ],
   "source": [
    "def personal_info(name, age, address):\n",
    "    print('이름: ', name)\n",
    "    print('나이: ', age)\n",
    "    print('주소: ', address)\n",
    "    print('\\n')\n",
    "\n",
    "personal_info('홍길동', 30, '서울시 용산구 이촌동')\n",
    "personal_info(name='홍길동', age=30, address='서울시 용산구 이촌동')\n",
    "personal_info(age=30, address='서울시 용산구 이촌동', name='홍길동')"
   ]
  },
  {
   "cell_type": "code",
   "execution_count": 109,
   "id": "2c2eaadb-ff91-44a8-9fbf-c377492c5a60",
   "metadata": {},
   "outputs": [
    {
     "name": "stdout",
     "output_type": "stream",
     "text": [
      "이름:  홍길동\n",
      "나이:  25\n",
      "주소:  뷍\n",
      "\n",
      "\n"
     ]
    }
   ],
   "source": [
    "# unpacking(딕셔너리 같은 경우 ** 두개)\n",
    "\n",
    "def personal_info(name, age, address):\n",
    "    print('이름: ', name)\n",
    "    print('나이: ', age)\n",
    "    print('주소: ', address)\n",
    "    print('\\n')\n",
    "\n",
    "x = {'name': '홍길동', 'age': 25, 'address': '뷍'}\n",
    "personal_info(**x)"
   ]
  },
  {
   "cell_type": "code",
   "execution_count": 123,
   "id": "8cca4651-582f-40e6-a13f-390084623553",
   "metadata": {},
   "outputs": [
    {
     "name": "stdout",
     "output_type": "stream",
     "text": [
      "{'name': '홍길동', 'age': 30, 'address': 'dasf'}\n",
      "name: 홍길동\n",
      "age: 30\n",
      "address: dasf\n",
      "\n",
      "\n",
      "{'name': '홍길동', 'age': 30, 'address': '서울시 용산구 이촌동'}\n",
      "name: 홍길동\n",
      "age: 30\n",
      "address: 서울시 용산구 이촌동\n"
     ]
    }
   ],
   "source": [
    "# 관레로 kwargs(kewword arguments) 씀\n",
    "\n",
    "def personal_info(**kwargs):\n",
    "    print(kwargs)\n",
    "    for kw, arg in kwargs.items():\n",
    "        print(kw, ': ', arg, sep = '')\n",
    "\n",
    "personal_info(name = '홍길동', age = 30, address = 'dasf')\n",
    "\n",
    "print('\\n')\n",
    "x = {'name': '홍길동', 'age': 30, 'address': '서울시 용산구 이촌동'}\n",
    "personal_info(**x)"
   ]
  },
  {
   "cell_type": "code",
   "execution_count": 128,
   "id": "490dfc9c-86a2-40b7-800f-c8547b1166fd",
   "metadata": {},
   "outputs": [
    {
     "name": "stdout",
     "output_type": "stream",
     "text": [
      "args: (1, 2, 3)\n",
      "kwargs: {'sep': ':', 'end': ''}\n",
      "1:2:3"
     ]
    }
   ],
   "source": [
    "def custom_print(*args, **kwargs):\n",
    "    print(\"args:\", args)\n",
    "    print(\"kwargs:\", kwargs)\n",
    "    print(*args, **kwargs)\n",
    "\n",
    "custom_print(1, 2, 3, sep = ':', end = '')"
   ]
  },
  {
   "cell_type": "code",
   "execution_count": 117,
   "id": "732a6014-d164-4391-809a-3892c75e3e45",
   "metadata": {},
   "outputs": [
    {
     "name": "stdout",
     "output_type": "stream",
     "text": [
      "이름:  홍길동\n",
      "나이:  25\n",
      "주소:  adsf\n"
     ]
    }
   ],
   "source": [
    "def personal_info(**kwargs):\n",
    "    if 'name' in kwargs:\n",
    "        print('이름: ', kwargs['name'])\n",
    "    if 'age' in kwargs:\n",
    "        print('나이: ', kwargs['age'])\n",
    "    if 'address' in kwargs:\n",
    "        print('주소: ', kwargs['address'])\n",
    "\n",
    "info = {'name': '홍길동', 'age': 25, 'address': 'adsf'}\n",
    "\n",
    "personal_info(**info)"
   ]
  },
  {
   "cell_type": "code",
   "execution_count": 130,
   "id": "17e19967-1e2b-429b-a2d7-a813e67bf792",
   "metadata": {},
   "outputs": [
    {
     "name": "stdout",
     "output_type": "stream",
     "text": [
      "이름:  알\n",
      "나이:  24\n",
      "주소:  비공개\n",
      "\n",
      "\n",
      "이름:  불\n",
      "나이:  27\n",
      "주소:  올챙\n"
     ]
    }
   ],
   "source": [
    "def personal_info(name, age, address='비공개'):\n",
    "    print('이름: ', name)\n",
    "    print('나이: ', age)\n",
    "    print('주소: ', address)\n",
    "    \n",
    "personal_info('알', 24)\n",
    "print('\\n')\n",
    "personal_info('불', 27, '올챙')"
   ]
  },
  {
   "cell_type": "code",
   "execution_count": 140,
   "id": "318e7297-3e9b-4298-a329-bcb98925b2d4",
   "metadata": {},
   "outputs": [
    {
     "name": "stdout",
     "output_type": "stream",
     "text": [
      "110\n",
      "2\n"
     ]
    }
   ],
   "source": [
    "plus_ten = (lambda x: x + 10)(100)\n",
    "print(plus_ten)\n",
    "\n",
    "plus_one = (lambda x: x + 1)\n",
    "print(plus_one(1))"
   ]
  }
 ],
 "metadata": {
  "kernelspec": {
   "display_name": "Python [conda env:base] *",
   "language": "python",
   "name": "conda-base-py"
  },
  "language_info": {
   "codemirror_mode": {
    "name": "ipython",
    "version": 3
   },
   "file_extension": ".py",
   "mimetype": "text/x-python",
   "name": "python",
   "nbconvert_exporter": "python",
   "pygments_lexer": "ipython3",
   "version": "3.13.5"
  }
 },
 "nbformat": 4,
 "nbformat_minor": 5
}
