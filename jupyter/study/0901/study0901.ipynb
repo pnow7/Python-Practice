{
 "cells": [
  {
   "cell_type": "code",
   "execution_count": 4,
   "id": "012d3370-35f0-45ed-a762-ac976fa9ccdf",
   "metadata": {},
   "outputs": [
    {
     "name": "stdout",
     "output_type": "stream",
     "text": [
      "이름:  name\n",
      "나이:  age\n",
      "주소:  address\n",
      "이름:  홍길동\n",
      "나이:  30\n",
      "주소:  서울시 용산구 이촌동\n"
     ]
    }
   ],
   "source": [
    "# * 1개: 키만 반환\n",
    "# ** 2개: 키와 값을 합쳐서 반환\n",
    "# 출력이 같아도 다르다\n",
    "\n",
    "def personal_info(name, age, address):\n",
    "    print('이름: ', name)\n",
    "    print('나이: ', age)\n",
    "    print('주소: ', address)\n",
    "\n",
    "x = {'name': '홍길동', 'age': 30, 'address': '서울시 용산구 이촌동'}\n",
    "personal_info(*x)\n",
    "personal_info(**x)"
   ]
  },
  {
   "cell_type": "code",
   "execution_count": 5,
   "id": "6fb1935c-731c-4c29-a2d7-bb45edec97f9",
   "metadata": {},
   "outputs": [
    {
     "name": "stdout",
     "output_type": "stream",
     "text": [
      "이름:  name\n",
      "나이:  age\n",
      "주소:  address\n"
     ]
    }
   ],
   "source": [
    "x = {'name': '홍길동', 'age': 30, 'address': '서울시 용산구 이촌동'}\n",
    "personal_info(*x)"
   ]
  },
  {
   "cell_type": "code",
   "execution_count": 6,
   "id": "664de3bb-c1f4-408b-8a8b-a956f09c8409",
   "metadata": {},
   "outputs": [
    {
     "name": "stdout",
     "output_type": "stream",
     "text": [
      "이름:  홍길동\n",
      "나이:  30\n",
      "주소:  서울시 용산구 이촌동\n"
     ]
    }
   ],
   "source": [
    "x = {'name': '홍길동', 'age': 30, 'address': '서울시 용산구 이촌동'}\n",
    "personal_info(**x)"
   ]
  },
  {
   "cell_type": "code",
   "execution_count": 8,
   "id": "8de44f12-be99-42c0-9e79-f74f64c9694b",
   "metadata": {},
   "outputs": [
    {
     "name": "stdout",
     "output_type": "stream",
     "text": [
      "name: 홍길동\n",
      "name: 홍길동\n",
      "age: 30\n",
      "address: 서울시 용산구 이촌동\n"
     ]
    }
   ],
   "source": [
    "def personal_info(**kwargs):\n",
    "    for kw, arg in kwargs.items():\n",
    "        print(kw, ': ', arg, sep='')\n",
    "\n",
    "personal_info(name = '홍길동')\n",
    "personal_info(name='홍길동', age=30, address='서울시 용산구 이촌동')"
   ]
  },
  {
   "cell_type": "code",
   "execution_count": 12,
   "id": "cec3f20e-b5d8-443d-963e-e8cf7ad5b14d",
   "metadata": {},
   "outputs": [
    {
     "name": "stdout",
     "output_type": "stream",
     "text": [
      "(1, 2, 3)\n",
      "{'sep': ':', 'hello': '안녕'}\n"
     ]
    }
   ],
   "source": [
    "def custom_print(*args, **kwargs):\n",
    "    print(args)\n",
    "    print(kwargs)\n",
    "    \n",
    "custom_print(1, 2, 3, sep=':', hello='안녕')"
   ]
  },
  {
   "cell_type": "markdown",
   "id": "41091043-d72c-4f98-b332-7c9b0f19f15c",
   "metadata": {},
   "source": [
    "* 변수의 사용 범위\n",
    "* **변수**"
   ]
  },
  {
   "cell_type": "markdown",
   "id": "0b36d045-81bf-45fe-9be2-8b6350e788f7",
   "metadata": {},
   "source": [
    "# 헤더1\n",
    "## 헤더2"
   ]
  },
  {
   "cell_type": "markdown",
   "id": "be308240-867f-4298-a6eb-d95f125f7ff0",
   "metadata": {},
   "source": [
    "* 변수의 사용 범위\n",
    "* x = 10\n",
    "# 헤더1\n",
    "- ___~~뷁~~___\n",
    "## 헤더2\n",
    "- __뷁__\n",
    "### 헤더3\n",
    "- _뷁_\n",
    "#### 헤더4\n",
    "- ~~뷁~~"
   ]
  },
  {
   "cell_type": "code",
   "execution_count": 14,
   "id": "eabbd5bc-a301-4905-bf88-0d0b9bd3f723",
   "metadata": {},
   "outputs": [
    {
     "name": "stdout",
     "output_type": "stream",
     "text": [
      "7 hello\n"
     ]
    }
   ],
   "source": [
    "try:\n",
    "    a = '7'\n",
    "    b = 'hello'\n",
    "    num_a = int(a)\n",
    "    num_b = int(b)\n",
    "    print(num_a, num_b)\n",
    "except ValueError:\n",
    "    print(a, b)"
   ]
  },
  {
   "cell_type": "code",
   "execution_count": 15,
   "id": "d256a314-731d-45a3-a0a3-ba1beeb50f70",
   "metadata": {},
   "outputs": [
    {
     "name": "stdout",
     "output_type": "stream",
     "text": [
      "안녕하세요.\n"
     ]
    }
   ],
   "source": [
    "class Person:\n",
    "    def __init__(self):\n",
    "        self.hello = '안녕하세요.'\n",
    " \n",
    "    def greeting(self):\n",
    "        print(self.hello)\n",
    " \n",
    "james = Person()\n",
    "james.greeting()"
   ]
  },
  {
   "cell_type": "code",
   "execution_count": 16,
   "id": "46724701-ecf1-4af2-898f-ca021e2a75aa",
   "metadata": {},
   "outputs": [
    {
     "name": "stdout",
     "output_type": "stream",
     "text": [
      "이름: 익명, 나이: 5살\n",
      "동물이 소리를 냅니다.\n",
      "--------------------\n",
      "이름: 뽀삐, 나이: 3살\n",
      "멍! 멍!\n",
      "--------------------\n",
      "이름: 냥냥이, 나이: 2살\n",
      "야옹! 야옹!\n",
      "고양이가 기분 좋게 그르렁거립니다.\n"
     ]
    }
   ],
   "source": [
    "class Animal:\n",
    "    def __init__(self, name, age):\n",
    "        self.name = name\n",
    "        self.age = age\n",
    "\n",
    "    def make_sound(self):\n",
    "        print(\"동물이 소리를 냅니다.\")\n",
    "\n",
    "    def info(self):\n",
    "        print(f\"이름: {self.name}, 나이: {self.age}살\")\n",
    "\n",
    "class Dog(Animal):\n",
    "    def make_sound(self):\n",
    "        print(\"멍! 멍!\")\n",
    "\n",
    "class Cat(Animal):\n",
    "    def make_sound(self):\n",
    "        print(\"야옹! 야옹!\")\n",
    "\n",
    "    def purr(self):\n",
    "        print(\"고양이가 기분 좋게 그르렁거립니다.\")\n",
    "\n",
    "# Animal 클래스 객체 생성\n",
    "animal = Animal(\"익명\", 5)\n",
    "animal.info()\n",
    "animal.make_sound()\n",
    "print(\"-\" * 20)\n",
    "\n",
    "# Dog 클래스 객체 생성\n",
    "my_dog = Dog(\"뽀삐\", 3)\n",
    "my_dog.info()        # 부모 클래스(Animal)의 info 메서드 사용\n",
    "my_dog.make_sound()  # 오버라이딩된 make_sound 메서드 사용\n",
    "print(\"-\" * 20)\n",
    "\n",
    "# Cat 클래스 객체 생성\n",
    "my_cat = Cat(\"냥냥이\", 2)\n",
    "my_cat.info()        # 부모 클래스(Animal)의 info 메서드 사용\n",
    "my_cat.make_sound()  # 오버라이딩된 make_sound 메서드 사용\n",
    "my_cat.purr()        # Cat 클래스만의 고유 메서드 사용"
   ]
  },
  {
   "cell_type": "code",
   "execution_count": 17,
   "id": "d2c0c5fc-6452-435c-8e77-4d77f82fd3b0",
   "metadata": {},
   "outputs": [
    {
     "name": "stdout",
     "output_type": "stream",
     "text": [
      "--------------------\n"
     ]
    }
   ],
   "source": [
    "print('-' * 20)"
   ]
  },
  {
   "cell_type": "code",
   "execution_count": 18,
   "id": "cc44e67f-3dd3-401a-8256-32d714c4f300",
   "metadata": {},
   "outputs": [],
   "source": [
    "f = open('hello.txt', 'w') \n",
    "f.write(\"파일 첫째 줄\")\n",
    "f.write(\"파일 둘째 줄\")\n",
    "f.close()"
   ]
  },
  {
   "cell_type": "code",
   "execution_count": 19,
   "id": "c7d7ed7d-ee94-446f-9116-693783c6b91a",
   "metadata": {},
   "outputs": [],
   "source": [
    "f = open('hello.txt', 'r')\n",
    "s = f.read()\n",
    "f.close()"
   ]
  },
  {
   "cell_type": "code",
   "execution_count": 20,
   "id": "f01cd863-4e84-4a88-83cd-9c4dc919fd48",
   "metadata": {},
   "outputs": [
    {
     "name": "stdout",
     "output_type": "stream",
     "text": [
      "파일 첫째 줄파일 둘째 줄\n"
     ]
    },
    {
     "data": {
      "text/plain": [
       "'파일 첫째 줄파일 둘째 줄'"
      ]
     },
     "execution_count": 20,
     "metadata": {},
     "output_type": "execute_result"
    }
   ],
   "source": [
    "with open('hello.txt', 'r') as f:\n",
    "    s = f.read()\n",
    "    print(s)\n",
    "\n",
    "s"
   ]
  },
  {
   "cell_type": "code",
   "execution_count": 21,
   "id": "ddd148a2-987b-421e-9c63-62202ae95ec4",
   "metadata": {},
   "outputs": [],
   "source": [
    "with open('hello.txt', 'w') as file:    # hello.txt 파일을 쓰기 모드(w)로 열기\n",
    "    for i in range(3):\n",
    "        file.write('Hello, world! {0}\\n'.format(i))"
   ]
  },
  {
   "cell_type": "code",
   "execution_count": 29,
   "id": "03665bc1-8f42-4061-8dc7-48b388d0d064",
   "metadata": {},
   "outputs": [
    {
     "name": "stdout",
     "output_type": "stream",
     "text": [
      "['Hello, world! 0\\n', 'Hello, world! 1\\n', 'Hello, world! 2\\n']\n"
     ]
    }
   ],
   "source": [
    "with open('hello.txt', 'r') as file:    # hello.txt 파일을 읽기 모드(r)로 열기\n",
    "    lines = file.readlines()\n",
    "    print(lines)"
   ]
  },
  {
   "cell_type": "code",
   "execution_count": 23,
   "id": "ba211a69-93e1-4671-8e79-d47cd846adba",
   "metadata": {},
   "outputs": [
    {
     "name": "stdout",
     "output_type": "stream",
     "text": [
      "Hello, world! 0\n",
      "Hello, world! 1\n",
      "Hello, world! 2\n",
      "\n"
     ]
    }
   ],
   "source": [
    "with open('hello.txt', 'r') as file:    # hello.txt 파일을 읽기 모드(r)로 열기\n",
    "    line = None    # 변수 line을 None으로 초기화\n",
    "    while line != '':\n",
    "        line = file.readline()\n",
    "        print(line.strip('\\n'))    # 파일에서 읽어온 문자열에서 \\n 삭제하여 출력"
   ]
  }
 ],
 "metadata": {
  "kernelspec": {
   "display_name": "Python [conda env:base] *",
   "language": "python",
   "name": "conda-base-py"
  },
  "language_info": {
   "codemirror_mode": {
    "name": "ipython",
    "version": 3
   },
   "file_extension": ".py",
   "mimetype": "text/x-python",
   "name": "python",
   "nbconvert_exporter": "python",
   "pygments_lexer": "ipython3",
   "version": "3.13.5"
  }
 },
 "nbformat": 4,
 "nbformat_minor": 5
}
