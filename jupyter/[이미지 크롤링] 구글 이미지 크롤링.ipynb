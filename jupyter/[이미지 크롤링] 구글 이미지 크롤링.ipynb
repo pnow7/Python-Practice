{
 "cells": [
  {
   "cell_type": "markdown",
   "metadata": {},
   "source": [
    "# 키워드 기반 이미지 크롤링 실습 (최소 100픽셀 필터링)\n",
    "\n",
    "## 목표\n",
    "- 사용자가 입력한 키워드로 Google 이미지 검색에서 사진 데이터를 크롤링\n",
    "- 최소 한 변이 100픽셀 이상인 이미지만 다운로드\n",
    "- 저장 경로: `'../data/수집데이터/[검색어]'`\n",
    "- 전이학습 데이터셋 준비에 활용 가능\n",
    "\n",
    "## 준비물\n",
    "- Python 3.x\n",
    "- 필요 라이브러리: `selenium`, `requests`, `beautifulsoup4`, `webdriver-manager`, `Pillow`\n",
    "- 설치 명령어: `pip install selenium requests beautifulsoup4 webdriver-manager Pillow`\n",
    "- Chrome 브라우저 설치\n",
    "\n",
    "## 주의사항\n",
    "- Google의 빈번한 요청 차단 가능성 있음 (대기 시간 조정 필요)\n",
    "- 이미지 저작권 확인 후 학습 목적으로만 사용\n",
    "\n",
    "## 실행 흐름\n",
    "1. 환경 설정\n",
    "2. 다운로드 함수 정의 (크기 필터링 포함)\n",
    "3. 크롤링 함수 정의\n",
    "4. 실행 및 다운로드"
   ]
  },
  {
   "cell_type": "markdown",
   "metadata": {},
   "source": [
    "## 1. 환경 설정"
   ]
  },
  {
   "cell_type": "code",
   "execution_count": 1,
   "metadata": {},
   "outputs": [
    {
     "name": "stdout",
     "output_type": "stream",
     "text": [
      "Collecting webdriver_manager\n",
      "  Downloading webdriver_manager-4.0.2-py2.py3-none-any.whl.metadata (12 kB)\n",
      "Collecting selenium\n",
      "  Downloading selenium-4.35.0-py3-none-any.whl.metadata (7.4 kB)\n",
      "Requirement already satisfied: beautifulsoup4 in c:\\users\\admin\\anaconda3\\lib\\site-packages (4.12.3)\n",
      "Requirement already satisfied: pillow in c:\\users\\admin\\anaconda3\\lib\\site-packages (11.1.0)\n",
      "Requirement already satisfied: requests in c:\\users\\admin\\anaconda3\\lib\\site-packages (from webdriver_manager) (2.32.3)\n",
      "Requirement already satisfied: python-dotenv in c:\\users\\admin\\anaconda3\\lib\\site-packages (from webdriver_manager) (1.1.0)\n",
      "Requirement already satisfied: packaging in c:\\users\\admin\\appdata\\roaming\\python\\python313\\site-packages (from webdriver_manager) (25.0)\n",
      "Collecting urllib3<3.0,>=2.5.0 (from urllib3[socks]<3.0,>=2.5.0->selenium)\n",
      "  Downloading urllib3-2.5.0-py3-none-any.whl.metadata (6.5 kB)\n",
      "Collecting trio~=0.30.0 (from selenium)\n",
      "  Downloading trio-0.30.0-py3-none-any.whl.metadata (8.5 kB)\n",
      "Collecting trio-websocket~=0.12.2 (from selenium)\n",
      "  Downloading trio_websocket-0.12.2-py3-none-any.whl.metadata (5.1 kB)\n",
      "Requirement already satisfied: certifi>=2025.6.15 in c:\\users\\admin\\anaconda3\\lib\\site-packages (from selenium) (2025.8.3)\n",
      "Collecting typing_extensions~=4.14.0 (from selenium)\n",
      "  Downloading typing_extensions-4.14.1-py3-none-any.whl.metadata (3.0 kB)\n",
      "Requirement already satisfied: websocket-client~=1.8.0 in c:\\users\\admin\\anaconda3\\lib\\site-packages (from selenium) (1.8.0)\n",
      "Requirement already satisfied: attrs>=23.2.0 in c:\\users\\admin\\anaconda3\\lib\\site-packages (from trio~=0.30.0->selenium) (24.3.0)\n",
      "Requirement already satisfied: sortedcontainers in c:\\users\\admin\\anaconda3\\lib\\site-packages (from trio~=0.30.0->selenium) (2.4.0)\n",
      "Requirement already satisfied: idna in c:\\users\\admin\\anaconda3\\lib\\site-packages (from trio~=0.30.0->selenium) (3.7)\n",
      "Collecting outcome (from trio~=0.30.0->selenium)\n",
      "  Downloading outcome-1.3.0.post0-py2.py3-none-any.whl.metadata (2.6 kB)\n",
      "Requirement already satisfied: sniffio>=1.3.0 in c:\\users\\admin\\anaconda3\\lib\\site-packages (from trio~=0.30.0->selenium) (1.3.0)\n",
      "Requirement already satisfied: cffi>=1.14 in c:\\users\\admin\\anaconda3\\lib\\site-packages (from trio~=0.30.0->selenium) (1.17.1)\n",
      "Collecting wsproto>=0.14 (from trio-websocket~=0.12.2->selenium)\n",
      "  Downloading wsproto-1.2.0-py3-none-any.whl.metadata (5.6 kB)\n",
      "Requirement already satisfied: pysocks!=1.5.7,<2.0,>=1.5.6 in c:\\users\\admin\\anaconda3\\lib\\site-packages (from urllib3[socks]<3.0,>=2.5.0->selenium) (1.7.1)\n",
      "Requirement already satisfied: soupsieve>1.2 in c:\\users\\admin\\anaconda3\\lib\\site-packages (from beautifulsoup4) (2.5)\n",
      "Requirement already satisfied: pycparser in c:\\users\\admin\\anaconda3\\lib\\site-packages (from cffi>=1.14->trio~=0.30.0->selenium) (2.21)\n",
      "Requirement already satisfied: h11<1,>=0.9.0 in c:\\users\\admin\\anaconda3\\lib\\site-packages (from wsproto>=0.14->trio-websocket~=0.12.2->selenium) (0.16.0)\n",
      "Requirement already satisfied: charset-normalizer<4,>=2 in c:\\users\\admin\\anaconda3\\lib\\site-packages (from requests->webdriver_manager) (3.3.2)\n",
      "Downloading webdriver_manager-4.0.2-py2.py3-none-any.whl (27 kB)\n",
      "Downloading selenium-4.35.0-py3-none-any.whl (9.6 MB)\n",
      "   ---------------------------------------- 0.0/9.6 MB ? eta -:--:--\n",
      "   --------- ------------------------------ 2.4/9.6 MB 11.6 MB/s eta 0:00:01\n",
      "   ------------------- -------------------- 4.7/9.6 MB 11.3 MB/s eta 0:00:01\n",
      "   ---------------------------- ----------- 6.8/9.6 MB 11.1 MB/s eta 0:00:01\n",
      "   ------------------------------------- -- 8.9/9.6 MB 10.8 MB/s eta 0:00:01\n",
      "   ---------------------------------------- 9.6/9.6 MB 10.3 MB/s eta 0:00:00\n",
      "Downloading trio-0.30.0-py3-none-any.whl (499 kB)\n",
      "Downloading trio_websocket-0.12.2-py3-none-any.whl (21 kB)\n",
      "Downloading typing_extensions-4.14.1-py3-none-any.whl (43 kB)\n",
      "Downloading urllib3-2.5.0-py3-none-any.whl (129 kB)\n",
      "Downloading outcome-1.3.0.post0-py2.py3-none-any.whl (10 kB)\n",
      "Downloading wsproto-1.2.0-py3-none-any.whl (24 kB)\n",
      "Installing collected packages: wsproto, urllib3, typing_extensions, outcome, trio, webdriver_manager, trio-websocket, selenium\n",
      "\n",
      "  Attempting uninstall: urllib3\n",
      "\n",
      "    Found existing installation: urllib3 2.3.0\n",
      "\n",
      "    Uninstalling urllib3-2.3.0:\n",
      "\n",
      "      Successfully uninstalled urllib3-2.3.0\n",
      "\n",
      "   ----- ---------------------------------- 1/8 [urllib3]\n",
      "  Attempting uninstall: typing_extensions\n",
      "   ----- ---------------------------------- 1/8 [urllib3]\n",
      "    Found existing installation: typing_extensions 4.12.2\n",
      "   ----- ---------------------------------- 1/8 [urllib3]\n",
      "    Uninstalling typing_extensions-4.12.2:\n",
      "   ----- ---------------------------------- 1/8 [urllib3]\n",
      "   ---------- ----------------------------- 2/8 [typing_extensions]\n",
      "   ---------- ----------------------------- 2/8 [typing_extensions]\n",
      "   ---------- ----------------------------- 2/8 [typing_extensions]\n",
      "   ---------- ----------------------------- 2/8 [typing_extensions]\n",
      "   ---------- ----------------------------- 2/8 [typing_extensions]\n",
      "   ---------- ----------------------------- 2/8 [typing_extensions]\n",
      "   ---------- ----------------------------- 2/8 [typing_extensions]\n",
      "   ---------- ----------------------------- 2/8 [typing_extensions]\n",
      "   ---------- ----------------------------- 2/8 [typing_extensions]\n",
      "   ---------- ----------------------------- 2/8 [typing_extensions]\n",
      "   ---------- ----------------------------- 2/8 [typing_extensions]\n",
      "   ---------- ----------------------------- 2/8 [typing_extensions]\n",
      "   ---------- ----------------------------- 2/8 [typing_extensions]\n",
      "   ---------- ----------------------------- 2/8 [typing_extensions]\n",
      "   ---------- ----------------------------- 2/8 [typing_extensions]\n",
      "   ---------- ----------------------------- 2/8 [typing_extensions]\n",
      "   ---------- ----------------------------- 2/8 [typing_extensions]\n",
      "   ---------- ----------------------------- 2/8 [typing_extensions]\n",
      "   ---------- ----------------------------- 2/8 [typing_extensions]\n",
      "   ---------- ----------------------------- 2/8 [typing_extensions]\n",
      "   ---------- ----------------------------- 2/8 [typing_extensions]\n",
      "   ---------- ----------------------------- 2/8 [typing_extensions]\n",
      "   ---------- ----------------------------- 2/8 [typing_extensions]\n",
      "   ---------- ----------------------------- 2/8 [typing_extensions]\n",
      "   ---------- ----------------------------- 2/8 [typing_extensions]\n",
      "      Successfully uninstalled typing_extensions-4.12.2\n",
      "   ---------- ----------------------------- 2/8 [typing_extensions]\n",
      "   ---------- ----------------------------- 2/8 [typing_extensions]\n",
      "   -------------------- ------------------- 4/8 [trio]\n",
      "   -------------------- ------------------- 4/8 [trio]\n",
      "   -------------------- ------------------- 4/8 [trio]\n",
      "   -------------------- ------------------- 4/8 [trio]\n",
      "   ----------------------------------- ---- 7/8 [selenium]\n",
      "   ----------------------------------- ---- 7/8 [selenium]\n",
      "   ----------------------------------- ---- 7/8 [selenium]\n",
      "   ----------------------------------- ---- 7/8 [selenium]\n",
      "   ----------------------------------- ---- 7/8 [selenium]\n",
      "   ----------------------------------- ---- 7/8 [selenium]\n",
      "   ----------------------------------- ---- 7/8 [selenium]\n",
      "   ----------------------------------- ---- 7/8 [selenium]\n",
      "   ----------------------------------- ---- 7/8 [selenium]\n",
      "   ----------------------------------- ---- 7/8 [selenium]\n",
      "   ----------------------------------- ---- 7/8 [selenium]\n",
      "   ---------------------------------------- 8/8 [selenium]\n",
      "\n",
      "Successfully installed outcome-1.3.0.post0 selenium-4.35.0 trio-0.30.0 trio-websocket-0.12.2 typing_extensions-4.14.1 urllib3-2.5.0 webdriver_manager-4.0.2 wsproto-1.2.0\n"
     ]
    },
    {
     "name": "stderr",
     "output_type": "stream",
     "text": [
      "ERROR: pip's dependency resolver does not currently take into account all the packages that are installed. This behaviour is the source of the following dependency conflicts.\n",
      "spyder 6.0.7 requires ipython!=8.17.1,<9.0.0,>=8.13.0; python_version > \"3.8\", but you have ipython 9.5.0 which is incompatible.\n",
      "streamlit 1.45.1 requires packaging<25,>=20, but you have packaging 25.0 which is incompatible.\n"
     ]
    }
   ],
   "source": [
    "!pip install webdriver_manager selenium beautifulsoup4 pillow"
   ]
  },
  {
   "cell_type": "code",
   "execution_count": 2,
   "metadata": {},
   "outputs": [
    {
     "name": "stdout",
     "output_type": "stream",
     "text": [
      "환경 설정 완료!\n"
     ]
    }
   ],
   "source": [
    "import os\n",
    "import time\n",
    "import requests\n",
    "from selenium import webdriver\n",
    "from selenium.webdriver.chrome.service import Service\n",
    "from webdriver_manager.chrome import ChromeDriverManager\n",
    "from bs4 import BeautifulSoup\n",
    "from PIL import Image\n",
    "import io\n",
    "\n",
    "# 필요 라이브러리 확인\n",
    "print('환경 설정 완료!')"
   ]
  },
  {
   "cell_type": "markdown",
   "metadata": {},
   "source": [
    "## 2. 다운로드 함수 정의\n",
    "\n",
    "- `create_download_folder`: `'data/수집데이터/[검색어]'` 폴더 생성\n",
    "- `is_image_large_enough`: 이미지 크기 확인 (최소 100픽셀)\n",
    "- `download_image`: 이미지 다운로드 (크기 필터링 적용)"
   ]
  },
  {
   "cell_type": "code",
   "execution_count": 7,
   "metadata": {},
   "outputs": [
    {
     "name": "stdout",
     "output_type": "stream",
     "text": [
      "다운로드 함수 정의 완료!\n"
     ]
    }
   ],
   "source": [
    "# 다운로드 폴더 생성 함수\n",
    "def create_download_folder(keyword):\n",
    "    base_path = './data/수집데이터'\n",
    "    folder_name = os.path.join(base_path, keyword)\n",
    "    if not os.path.exists(folder_name):\n",
    "        os.makedirs(folder_name, exist_ok=True)  # 상위 폴더도 생성\n",
    "    return folder_name\n",
    "\n",
    "# 이미지 크기 확인 함수\n",
    "def is_image_large_enough(img_data, min_size=100):\n",
    "    try:\n",
    "        img = Image.open(io.BytesIO(img_data))\n",
    "        width, height = img.size\n",
    "        return width >= min_size or height >= min_size\n",
    "    except Exception as e:\n",
    "        print(f\"이미지 크기 확인 오류: {str(e)}\")\n",
    "        return False\n",
    "\n",
    "# 이미지 다운로드 함수 (크기 필터링 포함)\n",
    "def download_image(img_url, folder, img_name):\n",
    "    try:\n",
    "        headers = {\"User-Agent\": \"Mozilla/5.0\"}\n",
    "        response = requests.get(img_url, headers=headers, stream=True, timeout=10)\n",
    "        if response.status_code == 200:\n",
    "            img_data = response.content\n",
    "            if is_image_large_enough(img_data):\n",
    "                file_path = os.path.join(folder, img_name)\n",
    "                with open(file_path, 'wb') as f:\n",
    "                    f.write(img_data)\n",
    "                print(f\"다운로드 완료: {file_path}\")\n",
    "                return True\n",
    "            else:\n",
    "                print(f\"이미지 크기 부족 (100픽셀 미만): {img_url}\")\n",
    "                return False\n",
    "        else:\n",
    "            print(f\"다운로드 실패: {img_url} (상태 코드: {response.status_code})\")\n",
    "            return False\n",
    "    except Exception as e:\n",
    "        print(f\"오류 발생: {img_url} - {str(e)}\")\n",
    "        return False\n",
    "\n",
    "print('다운로드 함수 정의 완료!')"
   ]
  },
  {
   "cell_type": "markdown",
   "metadata": {},
   "source": [
    "## 3. 크롤링 함수 정의\n",
    "\n",
    "- `crawl_images`: Google 이미지 검색을 크롤링하고 이미지 다운로드\n",
    "- 최소 100픽셀 이상인 이미지만 저장"
   ]
  },
  {
   "cell_type": "code",
   "execution_count": 8,
   "metadata": {},
   "outputs": [
    {
     "name": "stdout",
     "output_type": "stream",
     "text": [
      "크롤링 함수 정의 완료!\n"
     ]
    }
   ],
   "source": [
    "# Google 이미지 검색 크롤링 함수\n",
    "def crawl_images(keyword, max_images=10):\n",
    "    # Chrome 드라이버 설정\n",
    "    options = webdriver.ChromeOptions()\n",
    "    options.add_argument('--headless')  # 브라우저 창 없이 실행\n",
    "    options.add_argument('--no-sandbox')\n",
    "    options.add_argument('--disable-dev-shm-usage')\n",
    "    driver = webdriver.Chrome(service=Service(ChromeDriverManager().install()), options=options)\n",
    "\n",
    "    # Google 이미지 검색 URL\n",
    "    search_url = f\"https://www.google.com/search?q={keyword}&tbm=isch\"\n",
    "    driver.get(search_url)\n",
    "    time.sleep(2)  # 페이지 로드 대기\n",
    "\n",
    "    # 스크롤하여 더 많은 이미지 로드\n",
    "    for _ in range(5):  # 5번 스크롤 (더 많은 이미지 확보)\n",
    "        driver.execute_script(\"window.scrollTo(0, document.body.scrollHeight);\")\n",
    "        time.sleep(2)\n",
    "\n",
    "    # 페이지 소스 가져오기\n",
    "    soup = BeautifulSoup(driver.page_source, 'html.parser')\n",
    "    img_tags = soup.find_all('img')\n",
    "\n",
    "    # 다운로드 폴더 생성\n",
    "    download_folder = create_download_folder(keyword)\n",
    "    downloaded_count = 0\n",
    "\n",
    "    # 이미지 URL 추출 및 다운로드\n",
    "    for idx, img in enumerate(img_tags):\n",
    "        if downloaded_count >= max_images:\n",
    "            break\n",
    "        img_url = img.get('src') or img.get('data-src')\n",
    "        if img_url and img_url.startswith('http'):\n",
    "            img_name = f\"{keyword}_{downloaded_count+1}.jpg\"\n",
    "            if download_image(img_url, download_folder, img_name):\n",
    "                downloaded_count += 1\n",
    "\n",
    "    driver.quit()\n",
    "    print(f\"총 {downloaded_count}개의 이미지를 다운로드했습니다.\")\n",
    "\n",
    "print('크롤링 함수 정의 완료!')"
   ]
  },
  {
   "cell_type": "markdown",
   "metadata": {},
   "source": [
    "## 4. 실행 및 다운로드\n",
    "\n",
    "- 키워드와 다운로드할 이미지 수를 입력하세요.\n",
    "- 예: 'puppy', 5 입력 시 `'./data/수집데이터/puppy'`에 최소 100픽셀 이상인 이미지 5장 다운로드"
   ]
  },
  {
   "cell_type": "code",
   "execution_count": 11,
   "metadata": {},
   "outputs": [
    {
     "name": "stdout",
     "output_type": "stream",
     "text": [
      "이미지 크기 부족 (100픽셀 미만): https://encrypted-tbn0.gstatic.com/images?q=tbn:ANd9GcQ5GTm5ogccvxaIJ3lI0iZYAl4VuK2Xfy6cnQ0FlBCGgVB6k5y5PUVwuGWN&s\n",
      "이미지 크기 부족 (100픽셀 미만): https://encrypted-tbn0.gstatic.com/images?q=tbn:ANd9GcS0ue0d_Pq4U43CbkCm_5Rors9D1bIcFIf4_YQ7_asniizjNSzAiUbSMfTU&s\n",
      "이미지 크기 확인 오류: cannot identify image file <_io.BytesIO object at 0x00000219F6F27BF0>\n",
      "이미지 크기 부족 (100픽셀 미만): https://fonts.gstatic.com/s/i/productlogos/googleg/v6/24px.svg\n",
      "다운로드 완료: ./data/수집데이터\\똥\\똥_1.jpg\n",
      "다운로드 완료: ./data/수집데이터\\똥\\똥_2.jpg\n",
      "다운로드 완료: ./data/수집데이터\\똥\\똥_3.jpg\n",
      "다운로드 완료: ./data/수집데이터\\똥\\똥_4.jpg\n",
      "다운로드 완료: ./data/수집데이터\\똥\\똥_5.jpg\n",
      "다운로드 완료: ./data/수집데이터\\똥\\똥_6.jpg\n",
      "다운로드 완료: ./data/수집데이터\\똥\\똥_7.jpg\n",
      "다운로드 완료: ./data/수집데이터\\똥\\똥_8.jpg\n",
      "이미지 크기 부족 (100픽셀 미만): https://encrypted-tbn0.gstatic.com/images?q=tbn:ANd9GcRFvTuakQvHmcbnRRQadwt6yK-yRkDTHhDVZVirQspCXlKdAWiLflaP&s=0\n",
      "이미지 크기 부족 (100픽셀 미만): https://encrypted-tbn0.gstatic.com/images?q=tbn:ANd9GcRxeHyoZOn91VWNV8f_htAQi0FxMxI9zakTrkH-ou557P96svsXy38z&s=0\n",
      "이미지 크기 부족 (100픽셀 미만): https://encrypted-tbn0.gstatic.com/images?q=tbn:ANd9GcRvIrmdKMoPWGOaMmKBmx4Gen2V2lZE2VAlzOzCs_9xyrpwkqaJoQNn&s=0\n",
      "다운로드 완료: ./data/수집데이터\\똥\\똥_9.jpg\n",
      "다운로드 완료: ./data/수집데이터\\똥\\똥_10.jpg\n",
      "총 10개의 이미지를 다운로드했습니다.\n"
     ]
    }
   ],
   "source": [
    "# 사용자 입력 및 크롤링 실행\n",
    "keyword = input(\"검색할 키워드를 입력하세요: \")\n",
    "max_images = int(input(\"다운로드할 최대 이미지 수를 입력하세요 (기본값 10): \") or 10)\n",
    "crawl_images(keyword, max_images)"
   ]
  },
  {
   "cell_type": "code",
   "execution_count": null,
   "metadata": {},
   "outputs": [],
   "source": []
  }
 ],
 "metadata": {
  "kernelspec": {
   "display_name": "base",
   "language": "python",
   "name": "python3"
  },
  "language_info": {
   "codemirror_mode": {
    "name": "ipython",
    "version": 3
   },
   "file_extension": ".py",
   "mimetype": "text/x-python",
   "name": "python",
   "nbconvert_exporter": "python",
   "pygments_lexer": "ipython3",
   "version": "3.13.5"
  }
 },
 "nbformat": 4,
 "nbformat_minor": 4
}
