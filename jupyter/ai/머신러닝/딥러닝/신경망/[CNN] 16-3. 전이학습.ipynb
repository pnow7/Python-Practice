{
 "cells": [
  {
   "cell_type": "markdown",
   "id": "e568ed25",
   "metadata": {},
   "source": [
    "### Chaper 16-3 전이학습 (Transfer Learning)"
   ]
  },
  {
   "cell_type": "markdown",
   "id": "716c4122",
   "metadata": {},
   "source": [
    "\n"
   ]
  }
 ],
 "metadata": {
  "language_info": {
   "name": "python"
  }
 },
 "nbformat": 4,
 "nbformat_minor": 5
}
