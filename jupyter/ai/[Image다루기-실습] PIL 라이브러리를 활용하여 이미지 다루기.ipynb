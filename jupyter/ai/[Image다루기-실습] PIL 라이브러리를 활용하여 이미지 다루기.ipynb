{
 "cells": [
  {
   "cell_type": "markdown",
   "id": "721b771c",
   "metadata": {},
   "source": [
    "## PIL 라이브러리\n",
    "출처 : https://soyoung-new-challenge.tistory.com/112\n",
    "\n",
    "install Library"
   ]
  },
  {
   "cell_type": "code",
   "execution_count": null,
   "id": "944fa828",
   "metadata": {},
   "outputs": [],
   "source": [
    "# !pip install pillow"
   ]
  },
  {
   "cell_type": "markdown",
   "id": "632ec939",
   "metadata": {},
   "source": [
    "## 이미지 데이터\n",
    "### 1. 이미지 데이터\n",
    "이미지에 머신러닝을 적용하려면 표 형태의 정형 데이터로 바꿔줘야 한다. 이미지는 정형 데이터로 만들기가 텍스트보다는 간편하다.\n",
    "\n",
    "##### 1.1 이미지 파일 형식\n",
    "대표적인 이미지 파일 형식에는 JPEG, PNG, GIF가 있다.\n",
    "\n",
    "JPEG는 사진 저장을 위한 손실 압축 방식의 표준이다. 흔히 jpg라고 한다. 손실 압축 방식이기 때문에 압축률이 높을 수록 화질이 낮다. 아래 그림의 경우 왼쪽에서 오른쪽으로 갈 수록 압축률이 낮고 화질이 높다. JPEG 파일은 편집과 저장을 반복하면 손실이 누적되서 점점 화질이 나빠진다.\n",
    "  \n",
    "GIF는 미국의 컴퓨서브(CompuServe)사가 개발한 비손실 압축 방식의 이미지 저장 형식이다. PNG는 GIF와 비슷한 국제 표준이다. 소프트웨어 특허로 묶여 있던 GIF를 대신해서 누구나 자유롭게 사용할 수 있도록 만들어졌다."
   ]
  },
  {
   "cell_type": "markdown",
   "id": "ed2c2d88",
   "metadata": {},
   "source": [
    "##### 1.2. 일반적인 이미지 데이터의 구조\n",
    "JPEG이든 GIF이든, PNG든 파일 형식에 관계 없이 데이터 분석을 위해 이미지를 불러오면 모두 동일한 형태로 변환해서 사용한다. 가장 널리 쓰이는 형식은 이미지를 픽셀 단위로 다루는 것이다. 그림의 점 하나를 픽셀이라고 한다.\n",
    "\n",
    "각각의 점은 색깔을 나타내는 수치로 표현한다. 흑백의 경우 밝기의 정도를 0에서 255까지로 나타낸다. 0은 검정, 255는 흰색이다. 왜 255까지인가하면 8비트, 즉 2진수 8자리로 나타낼 수 있는 범위가 255까지이기 때문이다. 이정도면 사람의 눈에는 충분하기 때문에 굳이 16비트까지 쓰지는 않는다.\n",
    "\n",
    "컬러의 경우에는 빛의 삼원색인 빨강(R), 초록(G), 파랑(B) 세 가지를 혼합해서 사용한다. 따라서 점 하나에 RGB를 나타내는 0 ~ 255 범위의 수치 3개로 표현한다. 보통은 표기를 간단히 하기 위해 16진수 표기를 많이 쓰는데 이때는 00~FF로 표시한다. 구글에서 color picker로 검색해서 색상코드를 확인해보자.\n",
    "\n",
    "##### 1.3. 이미지 행렬\n",
    "점 하나를 1개(흑백) 또는 3개(컬러)의 수로 나타낸다면 전체 그림은 행렬로 나타낼 수 있다.가로 n, 세로 p 크기의 이미지이면 n행 p열인 행렬로 나타내는 것이다.\n",
    "\n",
    "행렬 형태는 점들의 위치가 그대로 행렬에서 위치가 되므로 위치를 그대로 보존할 수 있다. 필터 등을 적용하기도 간단하다.\n",
    "\n",
    "흑백은 1개의 행렬로 나타내지만, 컬러의 경우 RGB별로 3개의 행렬로 나타낸다.\n",
    "\n",
    "##### 1.4. 이미지 벡터\n",
    "정형 데이터를 다루는 기계학습 모형은 데이터를 표에서 하나의 행, 즉 벡터로 다룬다. 따라서 이미지를 벡터로 바꾸면 기존의 기계학습 모형에 적용할 수 있다.\n",
    "\n",
    "가로 n, 세로 p 크기의 이미지는 n × p 크기의 벡터로 나타낸다. 가로 20, 세로 10 크기의 흑백 그림은 크기 200인 벡터로 나타내는 것이다. 컬러의 경우에는 RGB가 모두 들어가야 하니 크기가 600인 벡터가 된다.\n",
    "\n",
    "일반적으로는 행렬 형태로 전처리를 하고 벡터로 변환하여 최종 예측을 한다.\n"
   ]
  },
  {
   "cell_type": "markdown",
   "id": "11757e64",
   "metadata": {},
   "source": [
    "#### 디스플레이 장치 원리 : https://www.lgsl.kr/sto/stories/83/MSVW2008020001\n",
    "\n",
    "#### * RGB 이미지 : https://www.w3schools.com/colors/colors_rgb.asp\n",
    "\n",
    "#### * RGBA 이미지 : https://rgbacolorpicker.com/"
   ]
  },
  {
   "cell_type": "markdown",
   "id": "c0b98102",
   "metadata": {},
   "source": [
    "### 2. Pillow\n",
    "Pillow는 이미지 처리할 때 사용되는 유용한 라이브러리이다. (공식문서: https://pillow.readthedocs.io/)\n",
    "##### 2.1. 이미지 파일 찾기"
   ]
  },
  {
   "cell_type": "code",
   "execution_count": null,
   "id": "a575adc1",
   "metadata": {},
   "outputs": [],
   "source": []
  },
  {
   "cell_type": "markdown",
   "id": "265b5995",
   "metadata": {},
   "source": [
    "##### 2.2. 첫번째 이미지 선택\n",
    "작업 폴더에 마음에 드는 사진을 넣어둔다."
   ]
  },
  {
   "cell_type": "code",
   "execution_count": null,
   "id": "e5443bfd",
   "metadata": {},
   "outputs": [],
   "source": []
  },
  {
   "cell_type": "markdown",
   "id": "aec69f8f",
   "metadata": {},
   "source": [
    "Pillow 의 Image를 통해 사진을 연다. "
   ]
  },
  {
   "cell_type": "code",
   "execution_count": null,
   "id": "322940f7",
   "metadata": {
    "scrolled": true
   },
   "outputs": [],
   "source": []
  },
  {
   "cell_type": "code",
   "execution_count": null,
   "id": "304ee1fa",
   "metadata": {},
   "outputs": [],
   "source": []
  },
  {
   "cell_type": "code",
   "execution_count": null,
   "id": "475f2129",
   "metadata": {},
   "outputs": [],
   "source": []
  },
  {
   "cell_type": "markdown",
   "id": "aceec4e5",
   "metadata": {},
   "source": [
    "##### 2.3 그림 보기"
   ]
  },
  {
   "cell_type": "code",
   "execution_count": null,
   "id": "d87a2381",
   "metadata": {
    "scrolled": true
   },
   "outputs": [],
   "source": []
  },
  {
   "cell_type": "code",
   "execution_count": null,
   "id": "91731a1b",
   "metadata": {},
   "outputs": [],
   "source": []
  },
  {
   "cell_type": "markdown",
   "id": "9d5225c6",
   "metadata": {},
   "source": [
    "##### 2.4 크기 변환"
   ]
  },
  {
   "cell_type": "code",
   "execution_count": null,
   "id": "2b526f94",
   "metadata": {
    "scrolled": true
   },
   "outputs": [],
   "source": []
  },
  {
   "cell_type": "markdown",
   "id": "1f464d8a",
   "metadata": {},
   "source": [
    "##### 2.5. 저장"
   ]
  },
  {
   "cell_type": "code",
   "execution_count": null,
   "id": "2cffded5",
   "metadata": {},
   "outputs": [],
   "source": []
  },
  {
   "cell_type": "markdown",
   "id": "5147cc87",
   "metadata": {},
   "source": [
    "##### 2.6 회전"
   ]
  },
  {
   "cell_type": "code",
   "execution_count": null,
   "id": "ee4138eb",
   "metadata": {},
   "outputs": [],
   "source": []
  },
  {
   "cell_type": "markdown",
   "id": "1da63a7a",
   "metadata": {},
   "source": [
    "##### 2.7 반전\n",
    "상하반전"
   ]
  },
  {
   "cell_type": "code",
   "execution_count": null,
   "id": "ca5d1609",
   "metadata": {},
   "outputs": [],
   "source": []
  },
  {
   "cell_type": "markdown",
   "id": "3070d639",
   "metadata": {},
   "source": [
    "좌우 반전"
   ]
  },
  {
   "cell_type": "code",
   "execution_count": null,
   "id": "d6e87830",
   "metadata": {},
   "outputs": [],
   "source": []
  },
  {
   "cell_type": "markdown",
   "id": "995d187e",
   "metadata": {},
   "source": [
    "90도로 돌리기"
   ]
  },
  {
   "cell_type": "code",
   "execution_count": null,
   "id": "7d6c40f8",
   "metadata": {
    "scrolled": true
   },
   "outputs": [],
   "source": []
  },
  {
   "cell_type": "markdown",
   "id": "4d4f12b8",
   "metadata": {},
   "source": [
    "rotate(90) 과 다른점은?"
   ]
  },
  {
   "cell_type": "code",
   "execution_count": null,
   "id": "4626bced",
   "metadata": {},
   "outputs": [],
   "source": []
  },
  {
   "cell_type": "code",
   "execution_count": null,
   "id": "fd3c0a82",
   "metadata": {},
   "outputs": [],
   "source": []
  },
  {
   "cell_type": "code",
   "execution_count": null,
   "id": "a31b1b0f",
   "metadata": {},
   "outputs": [],
   "source": []
  },
  {
   "cell_type": "markdown",
   "id": "c3ec95ca",
   "metadata": {},
   "source": [
    "##### 2.8. 이미지 필터"
   ]
  },
  {
   "cell_type": "markdown",
   "id": "2693b176",
   "metadata": {},
   "source": [
    "Pillow 의 ImageFilter를 통해 사진에 필터링을 할 수 있다."
   ]
  },
  {
   "cell_type": "code",
   "execution_count": null,
   "id": "97c21507",
   "metadata": {},
   "outputs": [],
   "source": []
  },
  {
   "cell_type": "markdown",
   "id": "2e80fd11",
   "metadata": {},
   "source": [
    "블러 처리"
   ]
  },
  {
   "cell_type": "code",
   "execution_count": null,
   "id": "d6dbc0f5",
   "metadata": {},
   "outputs": [],
   "source": []
  },
  {
   "cell_type": "markdown",
   "id": "dbeb803a",
   "metadata": {},
   "source": [
    "엠보싱"
   ]
  },
  {
   "cell_type": "code",
   "execution_count": null,
   "id": "ad7226d4",
   "metadata": {},
   "outputs": [],
   "source": []
  },
  {
   "cell_type": "markdown",
   "id": "891f4851",
   "metadata": {},
   "source": [
    "윤곽"
   ]
  },
  {
   "cell_type": "code",
   "execution_count": null,
   "id": "37b5c9c2",
   "metadata": {},
   "outputs": [],
   "source": []
  },
  {
   "cell_type": "markdown",
   "id": "90af4c0d",
   "metadata": {},
   "source": [
    "자세히"
   ]
  },
  {
   "cell_type": "code",
   "execution_count": null,
   "id": "ae2cd371",
   "metadata": {},
   "outputs": [],
   "source": []
  },
  {
   "cell_type": "markdown",
   "id": "acd909e5",
   "metadata": {},
   "source": [
    "날카롭게"
   ]
  },
  {
   "cell_type": "code",
   "execution_count": null,
   "id": "4060344e",
   "metadata": {},
   "outputs": [],
   "source": []
  },
  {
   "cell_type": "markdown",
   "id": "34b1eea8",
   "metadata": {},
   "source": [
    "부드럽게"
   ]
  },
  {
   "cell_type": "code",
   "execution_count": null,
   "id": "186c3fcf",
   "metadata": {},
   "outputs": [],
   "source": []
  },
  {
   "cell_type": "markdown",
   "id": "b20ace17",
   "metadata": {},
   "source": [
    "##### 2.9. Convert\n",
    ".convert()에 색상 표현 방식을 넘겨줘서 이미지를 원하는 색상표현으로 변경할 수 있다.\n",
    "\n",
    "자주 사용되는 방식들은 다음과 같다\n",
    "\n",
    "- L : 흑백\n",
    "- RGB : Red, Green, Blue 삼원색을 이용한 색 표현\n",
    "- RGBA : Red, Green, Blue 삼원색을 이용한 색 표현 방법 + 투명도\n",
    "- CMYK : Cyan, Magenta, Yellow, Black 을 이용한 색 표현 방법\n",
    "\n",
    "이미지에 .convert() 함수에 L, RGB, RGBA 등을 넘겨줘서 원하는 색상표현 방식으로 변환할 수 있다."
   ]
  },
  {
   "cell_type": "markdown",
   "id": "dde7309e",
   "metadata": {},
   "source": [
    "##### 2.10 흑백\n",
    ".convert()에 'L'을 넘겨줘서 8 비트 그레이스케일로 변환할 수 있다."
   ]
  },
  {
   "cell_type": "code",
   "execution_count": null,
   "id": "bf2ef14b",
   "metadata": {},
   "outputs": [],
   "source": []
  },
  {
   "cell_type": "code",
   "execution_count": null,
   "id": "57a33c13",
   "metadata": {},
   "outputs": [],
   "source": []
  },
  {
   "cell_type": "markdown",
   "id": "7f442ceb",
   "metadata": {},
   "source": [
    "##### 2.11. 행렬(숫자데이터)로 변환\n",
    "\n",
    "> PIL image를 Numpy 행렬로 변환하기 위해서는 numpy의 array를 활용한다.\n",
    "\n",
    "> 그럼 PIL Image를 Numpy로 타입 변환이 가능함\n",
    "\n",
    "> Numpy로 변환된 이미지의 shape을 확인하면 (height, width, channel) 형태로 출력된다."
   ]
  },
  {
   "cell_type": "code",
   "execution_count": null,
   "id": "732e86fd",
   "metadata": {},
   "outputs": [],
   "source": []
  },
  {
   "cell_type": "markdown",
   "id": "8d417b61",
   "metadata": {},
   "source": [
    "행렬의 모양(shape)을 알아보자."
   ]
  },
  {
   "cell_type": "code",
   "execution_count": null,
   "id": "336942e3",
   "metadata": {},
   "outputs": [],
   "source": []
  },
  {
   "cell_type": "code",
   "execution_count": null,
   "id": "f585147f",
   "metadata": {},
   "outputs": [],
   "source": []
  },
  {
   "cell_type": "markdown",
   "id": "e685fb6a",
   "metadata": {},
   "source": [
    "흑백 이미지를 행렬로 바꿔보자."
   ]
  },
  {
   "cell_type": "code",
   "execution_count": null,
   "id": "9ed221be",
   "metadata": {},
   "outputs": [],
   "source": []
  },
  {
   "cell_type": "code",
   "execution_count": null,
   "id": "35ff1be3",
   "metadata": {},
   "outputs": [],
   "source": []
  },
  {
   "cell_type": "markdown",
   "id": "f4193eaa",
   "metadata": {},
   "source": [
    "numpy 행렬을 다시 이미지로 바꿀때는...\n",
    "\n",
    "Image.fromarray() 활용"
   ]
  },
  {
   "cell_type": "code",
   "execution_count": null,
   "id": "e5cdceaa",
   "metadata": {},
   "outputs": [],
   "source": []
  },
  {
   "cell_type": "markdown",
   "id": "a6c75a0b",
   "metadata": {},
   "source": [
    "흑백 이미지를 bw_image.jpg 로 저장해 보자."
   ]
  },
  {
   "cell_type": "code",
   "execution_count": null,
   "id": "3aa0c740",
   "metadata": {},
   "outputs": [],
   "source": []
  },
  {
   "cell_type": "code",
   "execution_count": null,
   "id": "d6f1d0a4",
   "metadata": {},
   "outputs": [],
   "source": []
  },
  {
   "cell_type": "code",
   "execution_count": null,
   "id": "abdfc14c",
   "metadata": {},
   "outputs": [],
   "source": []
  },
  {
   "cell_type": "markdown",
   "id": "22995a50",
   "metadata": {},
   "source": [
    "##### 2.12 jpg 파일을 읽어와 보자."
   ]
  },
  {
   "cell_type": "code",
   "execution_count": null,
   "id": "bb321c76",
   "metadata": {},
   "outputs": [],
   "source": []
  },
  {
   "cell_type": "markdown",
   "id": "57c22cd5",
   "metadata": {},
   "source": [
    "Image를 Numpy array(행렬)로 변환"
   ]
  },
  {
   "cell_type": "code",
   "execution_count": null,
   "id": "f35c7346",
   "metadata": {},
   "outputs": [],
   "source": []
  },
  {
   "cell_type": "markdown",
   "id": "9d8a56a1",
   "metadata": {},
   "source": [
    "JPG array의 shape를 보면... RGB 3개의 layer가 있음을 알수 있다. \n",
    "\n",
    "※ PNG는 RGBA 4개의 layer"
   ]
  },
  {
   "cell_type": "code",
   "execution_count": null,
   "id": "752b3a65",
   "metadata": {},
   "outputs": [],
   "source": []
  },
  {
   "cell_type": "code",
   "execution_count": null,
   "id": "9b84ae6a",
   "metadata": {},
   "outputs": [],
   "source": []
  },
  {
   "cell_type": "markdown",
   "id": "9091c0df",
   "metadata": {},
   "source": [
    "##### 2.12 draw text\n",
    "사진에 텍스트를 넣어보자"
   ]
  },
  {
   "cell_type": "markdown",
   "id": "14f829a3",
   "metadata": {},
   "source": [
    "우선 텍스트를 넣을 사진을 불러온다."
   ]
  },
  {
   "cell_type": "code",
   "execution_count": null,
   "id": "a87bad5c",
   "metadata": {},
   "outputs": [],
   "source": []
  },
  {
   "cell_type": "markdown",
   "id": "6d16dea0",
   "metadata": {},
   "source": [
    "불러온 이미지를 numpy array로 변환"
   ]
  },
  {
   "cell_type": "code",
   "execution_count": null,
   "id": "bf71e393",
   "metadata": {},
   "outputs": [],
   "source": []
  },
  {
   "cell_type": "code",
   "execution_count": null,
   "id": "3e1c562f",
   "metadata": {},
   "outputs": [],
   "source": []
  },
  {
   "cell_type": "markdown",
   "id": "e100b370",
   "metadata": {},
   "source": [
    "##### 2.12 텍스트 쓰기\n"
   ]
  },
  {
   "cell_type": "code",
   "execution_count": null,
   "id": "0eb70d78",
   "metadata": {},
   "outputs": [],
   "source": []
  },
  {
   "cell_type": "markdown",
   "id": "7bc65857",
   "metadata": {},
   "source": [
    "jpg 이미지를 png(RGBA)형태로 변환해 준다."
   ]
  },
  {
   "cell_type": "code",
   "execution_count": null,
   "id": "3bfe0718",
   "metadata": {},
   "outputs": [],
   "source": []
  },
  {
   "cell_type": "code",
   "execution_count": null,
   "id": "76423690",
   "metadata": {},
   "outputs": [],
   "source": []
  },
  {
   "cell_type": "markdown",
   "id": "b702ed2b",
   "metadata": {},
   "source": [
    "doggy와 같은 크기의 단색 이미지 만들기"
   ]
  },
  {
   "cell_type": "code",
   "execution_count": null,
   "id": "42076671",
   "metadata": {},
   "outputs": [],
   "source": []
  },
  {
   "cell_type": "markdown",
   "id": "d32cc0c7",
   "metadata": {},
   "source": [
    "글씨를 쓰기 위해 흰색-투명으로 이미지와 같은 크기 이미지 준비"
   ]
  },
  {
   "cell_type": "code",
   "execution_count": null,
   "id": "eb7f2ec5",
   "metadata": {},
   "outputs": [],
   "source": []
  },
  {
   "cell_type": "code",
   "execution_count": null,
   "id": "4b6273f5",
   "metadata": {},
   "outputs": [],
   "source": []
  },
  {
   "cell_type": "code",
   "execution_count": null,
   "id": "e84f8b38",
   "metadata": {},
   "outputs": [],
   "source": []
  },
  {
   "cell_type": "markdown",
   "id": "fd71ec9d",
   "metadata": {},
   "source": [
    "---"
   ]
  },
  {
   "cell_type": "markdown",
   "id": "df60b989",
   "metadata": {},
   "source": [
    "### Image to Numpy array\n",
    "\n",
    "\n",
    "> PIL image를 Numpy로 변환하기 위해서는 numpy의 array를 활용한다.\n",
    "\n",
    "> 그럼 PIL Image를 Numpy로 타입 변환이 가능함\n",
    "\n",
    "> Numpy로 변환된 이미지의 shape을 확인하면 (height, width, channel) 형태로 출력된다."
   ]
  },
  {
   "cell_type": "code",
   "execution_count": null,
   "id": "0fa41626",
   "metadata": {},
   "outputs": [],
   "source": []
  },
  {
   "cell_type": "markdown",
   "id": "a007669d",
   "metadata": {},
   "source": [
    "### daisy.png 파일을 읽어와서 array data를 살펴보자.\n",
    "\n",
    "png 파일은 RGB 로 구성된 jpg 파일에 Alpha값(투명도)가 4번째 요소로 들어가 있다.\n",
    "\n",
    "4번째 요소를 제거하면 jpg와 동일함\n"
   ]
  },
  {
   "cell_type": "code",
   "execution_count": null,
   "id": "7c3f87a2",
   "metadata": {},
   "outputs": [],
   "source": []
  },
  {
   "cell_type": "code",
   "execution_count": null,
   "id": "737e14dd",
   "metadata": {},
   "outputs": [],
   "source": []
  },
  {
   "cell_type": "code",
   "execution_count": null,
   "id": "6f52ac27",
   "metadata": {},
   "outputs": [],
   "source": []
  },
  {
   "cell_type": "code",
   "execution_count": null,
   "id": "996465b3",
   "metadata": {},
   "outputs": [],
   "source": []
  },
  {
   "cell_type": "markdown",
   "id": "a98565b6",
   "metadata": {},
   "source": [
    "### NumPy 배열을 PIL 이미지로 변환\n",
    "fromarray 메소드 사용"
   ]
  },
  {
   "cell_type": "code",
   "execution_count": null,
   "id": "3d257d37",
   "metadata": {},
   "outputs": [],
   "source": []
  },
  {
   "cell_type": "markdown",
   "id": "164ccccb",
   "metadata": {},
   "source": [
    "###### png파일의 alpha값 조절하기\n",
    "alpha 값에 해당하는 array를 잘라내 본다."
   ]
  },
  {
   "cell_type": "code",
   "execution_count": null,
   "id": "f4213114",
   "metadata": {},
   "outputs": [],
   "source": []
  },
  {
   "cell_type": "code",
   "execution_count": null,
   "id": "89535ab2",
   "metadata": {},
   "outputs": [],
   "source": []
  },
  {
   "cell_type": "markdown",
   "id": "c6827332",
   "metadata": {},
   "source": [
    "alpha에 해당하는 값(255)만 100으로 조절하기 위해 같은 모양의 array를 만든다."
   ]
  },
  {
   "cell_type": "code",
   "execution_count": null,
   "id": "57fd229c",
   "metadata": {},
   "outputs": [],
   "source": []
  },
  {
   "cell_type": "markdown",
   "id": "0f2d9867",
   "metadata": {},
   "source": [
    "투명도 alpha값을 0 ~ 255 사이의 숫자로 조절함에 따라...\n",
    "png_array의 마지막열이 바뀌는 것을 볼 수 있다."
   ]
  },
  {
   "cell_type": "code",
   "execution_count": null,
   "id": "148e9ded",
   "metadata": {},
   "outputs": [],
   "source": []
  },
  {
   "cell_type": "code",
   "execution_count": null,
   "id": "fd411bbe",
   "metadata": {},
   "outputs": [],
   "source": []
  },
  {
   "cell_type": "markdown",
   "id": "06c806d1",
   "metadata": {},
   "source": [
    "방금 만든 png_array를 다시 이미지로 바꾼다. (Image.fromarray)"
   ]
  },
  {
   "cell_type": "code",
   "execution_count": null,
   "id": "f318e9df",
   "metadata": {},
   "outputs": [],
   "source": []
  },
  {
   "cell_type": "markdown",
   "id": "363b429a",
   "metadata": {},
   "source": [
    "이미지를 저장한다."
   ]
  },
  {
   "cell_type": "code",
   "execution_count": null,
   "id": "00bf2715",
   "metadata": {},
   "outputs": [],
   "source": []
  },
  {
   "cell_type": "markdown",
   "id": "b2222c3b",
   "metadata": {},
   "source": [
    "참고로 이미지 array의 RGB 성분만 뽑아와 보자."
   ]
  },
  {
   "cell_type": "code",
   "execution_count": null,
   "id": "43a11e0b",
   "metadata": {},
   "outputs": [],
   "source": []
  },
  {
   "cell_type": "code",
   "execution_count": null,
   "id": "94ca3685",
   "metadata": {},
   "outputs": [],
   "source": []
  },
  {
   "cell_type": "code",
   "execution_count": null,
   "id": "6c7dcde4",
   "metadata": {},
   "outputs": [],
   "source": []
  },
  {
   "cell_type": "code",
   "execution_count": null,
   "id": "982bb5ae",
   "metadata": {},
   "outputs": [],
   "source": []
  },
  {
   "cell_type": "code",
   "execution_count": null,
   "id": "7787dc2b",
   "metadata": {},
   "outputs": [],
   "source": []
  },
  {
   "cell_type": "code",
   "execution_count": null,
   "id": "b91a71d2",
   "metadata": {
    "scrolled": true
   },
   "outputs": [],
   "source": []
  },
  {
   "cell_type": "code",
   "execution_count": null,
   "id": "1b7b05c8",
   "metadata": {},
   "outputs": [],
   "source": []
  },
  {
   "cell_type": "code",
   "execution_count": null,
   "id": "7c550211",
   "metadata": {},
   "outputs": [],
   "source": []
  },
  {
   "cell_type": "code",
   "execution_count": null,
   "id": "04994731",
   "metadata": {},
   "outputs": [],
   "source": []
  },
  {
   "cell_type": "markdown",
   "id": "4300eb40",
   "metadata": {},
   "source": [
    "---"
   ]
  },
  {
   "cell_type": "markdown",
   "id": "b4aa7677",
   "metadata": {},
   "source": [
    "Library import"
   ]
  },
  {
   "cell_type": "code",
   "execution_count": null,
   "id": "571141cb",
   "metadata": {},
   "outputs": [],
   "source": []
  },
  {
   "cell_type": "markdown",
   "id": "7b930d22",
   "metadata": {},
   "source": [
    "Image 파일 읽기\n",
    "> PIL로 읽은 이미지 파일의 크기는 Image.size로 확인이 가능하다.\n",
    "\n",
    "> 출력은 (width, height)의 튜플 형태로 출력"
   ]
  },
  {
   "cell_type": "code",
   "execution_count": null,
   "id": "432ce3b9",
   "metadata": {},
   "outputs": [],
   "source": []
  },
  {
   "cell_type": "code",
   "execution_count": null,
   "id": "b8cf9cfa",
   "metadata": {},
   "outputs": [],
   "source": []
  },
  {
   "cell_type": "markdown",
   "id": "1b519207",
   "metadata": {},
   "source": [
    "### 이미지 크기 변환\n",
    "> resize"
   ]
  },
  {
   "cell_type": "code",
   "execution_count": null,
   "id": "67a46eb3",
   "metadata": {},
   "outputs": [],
   "source": []
  },
  {
   "cell_type": "code",
   "execution_count": null,
   "id": "509ae243",
   "metadata": {},
   "outputs": [],
   "source": []
  },
  {
   "cell_type": "code",
   "execution_count": null,
   "id": "850c5553",
   "metadata": {},
   "outputs": [],
   "source": []
  },
  {
   "cell_type": "markdown",
   "id": "5efbd610",
   "metadata": {},
   "source": [
    "### 회전\n",
    "rotate"
   ]
  },
  {
   "cell_type": "code",
   "execution_count": null,
   "id": "bf6db999",
   "metadata": {},
   "outputs": [],
   "source": []
  },
  {
   "cell_type": "markdown",
   "id": "7469e316",
   "metadata": {},
   "source": [
    "### 상하 반전\n",
    "transpose(Image.FLIP_TOP_BOTTOM)"
   ]
  },
  {
   "cell_type": "code",
   "execution_count": null,
   "id": "b46db3c2",
   "metadata": {},
   "outputs": [],
   "source": []
  },
  {
   "cell_type": "markdown",
   "id": "73ce5b7c",
   "metadata": {},
   "source": [
    "### 좌우 반전"
   ]
  },
  {
   "cell_type": "code",
   "execution_count": null,
   "id": "3915ecd3",
   "metadata": {},
   "outputs": [],
   "source": []
  },
  {
   "cell_type": "markdown",
   "id": "b78c0ae5",
   "metadata": {},
   "source": [
    "Image Crop (자르기)"
   ]
  },
  {
   "cell_type": "code",
   "execution_count": null,
   "id": "2507a645",
   "metadata": {},
   "outputs": [],
   "source": []
  },
  {
   "cell_type": "markdown",
   "id": "db4e33f5",
   "metadata": {},
   "source": [
    "### [연습 문제 ] 호돌이의 얼굴이 잘 나오도록 이미지를 crop해 보기"
   ]
  },
  {
   "cell_type": "code",
   "execution_count": null,
   "id": "45887cfb",
   "metadata": {},
   "outputs": [],
   "source": []
  },
  {
   "cell_type": "code",
   "execution_count": null,
   "id": "436d174b",
   "metadata": {},
   "outputs": [],
   "source": []
  },
  {
   "cell_type": "markdown",
   "id": "98bb49db",
   "metadata": {},
   "source": [
    "### Image with drawBox\n",
    "> 이미지 위에 원하는 좌표의 박스를 그릴 경우 ImageDraw.Draw.rectangle 함수를 사용\n",
    "\n",
    "> ImageDraw.Draw.rectangle의 인자로는 박스의 좌표를 준다"
   ]
  },
  {
   "cell_type": "code",
   "execution_count": null,
   "id": "59365331",
   "metadata": {},
   "outputs": [],
   "source": []
  },
  {
   "cell_type": "markdown",
   "id": "bfffc4f5",
   "metadata": {},
   "source": [
    "[연습 문제 ] 호돌이의 얼굴을 초록색 사각형 Box로 감싸보자."
   ]
  },
  {
   "cell_type": "code",
   "execution_count": null,
   "id": "dcdce36c",
   "metadata": {},
   "outputs": [],
   "source": []
  },
  {
   "cell_type": "code",
   "execution_count": null,
   "id": "68e27f33",
   "metadata": {},
   "outputs": [],
   "source": []
  }
 ],
 "metadata": {
  "kernelspec": {
   "display_name": "Python 3 (ipykernel)",
   "language": "python",
   "name": "python3"
  },
  "language_info": {
   "codemirror_mode": {
    "name": "ipython",
    "version": 3
   },
   "file_extension": ".py",
   "mimetype": "text/x-python",
   "name": "python",
   "nbconvert_exporter": "python",
   "pygments_lexer": "ipython3",
   "version": "3.8.13"
  },
  "varInspector": {
   "cols": {
    "lenName": 16,
    "lenType": 16,
    "lenVar": 40
   },
   "kernels_config": {
    "python": {
     "delete_cmd_postfix": "",
     "delete_cmd_prefix": "del ",
     "library": "var_list.py",
     "varRefreshCmd": "print(var_dic_list())"
    },
    "r": {
     "delete_cmd_postfix": ") ",
     "delete_cmd_prefix": "rm(",
     "library": "var_list.r",
     "varRefreshCmd": "cat(var_dic_list()) "
    }
   },
   "types_to_exclude": [
    "module",
    "function",
    "builtin_function_or_method",
    "instance",
    "_Feature"
   ],
   "window_display": false
  }
 },
 "nbformat": 4,
 "nbformat_minor": 5
}
